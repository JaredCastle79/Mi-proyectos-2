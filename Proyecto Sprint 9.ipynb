{
 "cells": [
  {
   "cell_type": "markdown",
   "metadata": {},
   "source": [
    "# Paso 1. Acceda los datos y prepáralos para el análisis"
   ]
  },
  {
   "cell_type": "code",
   "execution_count": 1,
   "metadata": {},
   "outputs": [],
   "source": [
    "import pandas as pd\n",
    "import numpy as np\n",
    "import matplotlib.pyplot as plt\n",
    "import seaborn as sns\n",
    "\n",
    "visits = pd.read_csv('./documentosparapy/visits_log_us.csv')\n",
    "orders = pd.read_csv('./documentosparapy/orders_log_us.csv')\n",
    "costs = pd.read_csv('./documentosparapy/costs_us.csv')"
   ]
  },
  {
   "cell_type": "markdown",
   "metadata": {},
   "source": [
    "Importamos librerias y cargamos lo datos "
   ]
  },
  {
   "cell_type": "code",
   "execution_count": 3,
   "metadata": {},
   "outputs": [
    {
     "name": "stdout",
     "output_type": "stream",
     "text": [
      "<class 'pandas.core.frame.DataFrame'>\n",
      "RangeIndex: 359400 entries, 0 to 359399\n",
      "Data columns (total 5 columns):\n",
      " #   Column     Non-Null Count   Dtype \n",
      "---  ------     --------------   ----- \n",
      " 0   Device     359400 non-null  object\n",
      " 1   End Ts     359400 non-null  object\n",
      " 2   Source Id  359400 non-null  int64 \n",
      " 3   Start Ts   359400 non-null  object\n",
      " 4   Uid        359400 non-null  uint64\n",
      "dtypes: int64(1), object(3), uint64(1)\n",
      "memory usage: 13.7+ MB\n",
      "None\n",
      "<class 'pandas.core.frame.DataFrame'>\n",
      "RangeIndex: 50415 entries, 0 to 50414\n",
      "Data columns (total 3 columns):\n",
      " #   Column   Non-Null Count  Dtype  \n",
      "---  ------   --------------  -----  \n",
      " 0   Buy Ts   50415 non-null  object \n",
      " 1   Revenue  50415 non-null  float64\n",
      " 2   Uid      50415 non-null  uint64 \n",
      "dtypes: float64(1), object(1), uint64(1)\n",
      "memory usage: 1.2+ MB\n",
      "None\n",
      "<class 'pandas.core.frame.DataFrame'>\n",
      "RangeIndex: 2542 entries, 0 to 2541\n",
      "Data columns (total 3 columns):\n",
      " #   Column     Non-Null Count  Dtype  \n",
      "---  ------     --------------  -----  \n",
      " 0   source_id  2542 non-null   int64  \n",
      " 1   dt         2542 non-null   object \n",
      " 2   costs      2542 non-null   float64\n",
      "dtypes: float64(1), int64(1), object(1)\n",
      "memory usage: 59.7+ KB\n",
      "None\n"
     ]
    }
   ],
   "source": [
    "print(visits.info())\n",
    "print(orders.info())\n",
    "print(costs.info())"
   ]
  },
  {
   "cell_type": "code",
   "execution_count": 4,
   "metadata": {},
   "outputs": [
    {
     "name": "stdout",
     "output_type": "stream",
     "text": [
      "    Device               End Ts  Source Id             Start Ts  \\\n",
      "0    touch  2017-12-20 17:38:00          4  2017-12-20 17:20:00   \n",
      "1  desktop  2018-02-19 17:21:00          2  2018-02-19 16:53:00   \n",
      "2    touch  2017-07-01 01:54:00          5  2017-07-01 01:54:00   \n",
      "3  desktop  2018-05-20 11:23:00          9  2018-05-20 10:59:00   \n",
      "4  desktop  2017-12-27 14:06:00          3  2017-12-27 14:06:00   \n",
      "\n",
      "                    Uid  \n",
      "0  16879256277535980062  \n",
      "1    104060357244891740  \n",
      "2   7459035603376831527  \n",
      "3  16174680259334210214  \n",
      "4   9969694820036681168  \n",
      "                Buy Ts  Revenue                   Uid\n",
      "0  2017-06-01 00:10:00    17.00  10329302124590727494\n",
      "1  2017-06-01 00:25:00     0.55  11627257723692907447\n",
      "2  2017-06-01 00:27:00     0.37  17903680561304213844\n",
      "3  2017-06-01 00:29:00     0.55  16109239769442553005\n",
      "4  2017-06-01 07:58:00     0.37  14200605875248379450\n",
      "   source_id          dt  costs\n",
      "0          1  2017-06-01  75.20\n",
      "1          1  2017-06-02  62.25\n",
      "2          1  2017-06-03  36.53\n",
      "3          1  2017-06-04  55.00\n",
      "4          1  2017-06-05  57.08\n"
     ]
    }
   ],
   "source": [
    "print(visits.head())\n",
    "print(orders.head())\n",
    "print(costs.head())"
   ]
  },
  {
   "cell_type": "markdown",
   "metadata": {},
   "source": [
    "Visualizamos los datos."
   ]
  },
  {
   "cell_type": "markdown",
   "metadata": {},
   "source": [
    "# Paso 2. Haz informes y calcula métricas \n"
   ]
  },
  {
   "cell_type": "markdown",
   "metadata": {},
   "source": [
    "## Visitas:"
   ]
  },
  {
   "cell_type": "code",
   "execution_count": 8,
   "metadata": {},
   "outputs": [],
   "source": [
    "visits['Start Ts'] = pd.to_datetime(visits['Start Ts'], format=\"%Y-%m-%d %H:%M:%S\")\n",
    "visits['End Ts'] = pd.to_datetime(visits['End Ts'], format=\"%Y-%m-%d %H:%M:%S\")\n",
    "\n",
    "visits['session_year'] = visits['Start Ts'].dt.isocalendar().year\n",
    "visits['session_month'] = visits['Start Ts'].dt.month\n",
    "visits['session_week'] = visits['Start Ts'].dt.isocalendar().week\n",
    "visits['session_date'] = visits['Start Ts'].dt.date\n"
   ]
  },
  {
   "cell_type": "markdown",
   "metadata": {},
   "source": [
    "Convertimos a tipo fecha los datos que se encuentran como fechas.Y extraemos el año, mes, semana y fecha\n"
   ]
  },
  {
   "cell_type": "code",
   "execution_count": 10,
   "metadata": {},
   "outputs": [],
   "source": [
    "dau_total = visits.groupby('session_date').agg({'Uid': 'nunique'}).mean()\n",
    "wau_total = visits.groupby(['session_year', 'session_week']).agg({'Uid': 'nunique'}).mean()\n",
    "mau_total = visits.groupby(['session_year', 'session_month']).agg({'Uid': 'nunique'}).mean()"
   ]
  },
  {
   "cell_type": "markdown",
   "metadata": {},
   "source": [
    "Calculamos  DAU, WAU, MAU (promedio de usuarios únicos por periodo) para asi saber cuántas personas lo usan cada día, semana y mes.\n"
   ]
  },
  {
   "cell_type": "code",
   "execution_count": 12,
   "metadata": {},
   "outputs": [],
   "source": [
    "sticky_wau = (dau_total / wau_total * 100)\n",
    "sticky_mau = (dau_total / mau_total * 100)"
   ]
  },
  {
   "cell_type": "markdown",
   "metadata": {},
   "source": [
    "Calculamos el porcentaje de usuarios semanales y mensuales que usan la app diariamente."
   ]
  },
  {
   "cell_type": "code",
   "execution_count": 14,
   "metadata": {},
   "outputs": [
    {
     "name": "stdout",
     "output_type": "stream",
     "text": [
      "DAU promedio: 908 usuarios\n",
      "WAU promedio: 5716 usuarios\n",
      "MAU promedio: 23228 usuarios\n",
      "Sticky Factor (DAU/WAU): 16%\n",
      "Sticky Factor (DAU/MAU): 4%\n"
     ]
    }
   ],
   "source": [
    "print(f\"DAU promedio: {dau_total.values[0]:.0f} usuarios\")\n",
    "print(f\"WAU promedio: {wau_total.values[0]:.0f} usuarios\")\n",
    "print(f\"MAU promedio: {mau_total.values[0]:.0f} usuarios\")\n",
    "print(f\"Sticky Factor (DAU/WAU): {sticky_wau.values[0]:.0f}%\")\n",
    "print(f\"Sticky Factor (DAU/MAU): {sticky_mau.values[0]:.0f}%\")"
   ]
  },
  {
   "cell_type": "markdown",
   "metadata": {},
   "source": [
    "Por lo que tenemos:\n",
    "908 personas que lo usan cada dia.\n",
    "5716 personas lo usan cada semana.\n",
    "23228 personas lo usan cada mes.\n",
    "De los cuales de las personas que lo usan cada semanas solo el 16% lo usa diario.\n",
    "Y de las personas que lo usan cada mes solo el 4% lo usa diario."
   ]
  },
  {
   "cell_type": "code",
   "execution_count": 16,
   "metadata": {},
   "outputs": [
    {
     "name": "stdout",
     "output_type": "stream",
     "text": [
      "              n_sessions  n_users  sessions_per_user\n",
      "session_date                                        \n",
      "2017-06-01           664      605           1.097521\n",
      "2017-06-02           658      608           1.082237\n",
      "2017-06-03           477      445           1.071910\n",
      "2017-06-04           510      476           1.071429\n",
      "2017-06-05           893      820           1.089024\n",
      "...                  ...      ...                ...\n",
      "2018-05-27           672      620           1.083871\n",
      "2018-05-28          1156     1039           1.112608\n",
      "2018-05-29          1035      948           1.091772\n",
      "2018-05-30          1410     1289           1.093871\n",
      "2018-05-31          2256     1997           1.129695\n",
      "\n",
      "[364 rows x 3 columns]\n"
     ]
    }
   ],
   "source": [
    "\n",
    "sessions_per_day = visits.groupby('session_date').agg({'Uid': ['count', 'nunique']})\n",
    "\n",
    "sessions_per_day.columns = ['n_sessions', 'n_users']\n",
    "\n",
    "sessions_per_day['sessions_per_user'] = sessions_per_day['n_sessions'] / sessions_per_day['n_users']\n",
    "\n",
    "\n",
    "print(sessions_per_day)"
   ]
  },
  {
   "cell_type": "markdown",
   "metadata": {},
   "source": [
    "Podemos observar que las sesiones por usuario no pasan a 2 o mas por lo que un usuario no puede tener más de una sesión al dia.\n"
   ]
  },
  {
   "cell_type": "code",
   "execution_count": 18,
   "metadata": {},
   "outputs": [
    {
     "name": "stdout",
     "output_type": "stream",
     "text": [
      "La duración promedio es de  643.506488592098\n"
     ]
    },
    {
     "data": {
      "text/plain": [
       "Text(0.5, 1.0, 'Distribución de Duración de Sesiones')"
      ]
     },
     "execution_count": 18,
     "metadata": {},
     "output_type": "execute_result"
    },
    {
     "data": {
      "image/png": "[encoded data removed]",
      "text/plain": [
       "<Figure size 640x480 with 1 Axes>"
      ]
     },
     "metadata": {},
     "output_type": "display_data"
    }
   ],
   "source": [
    "visits['duration'] = (visits['End Ts'] - visits['Start Ts']).dt.seconds\n",
    "print(\"La duración promedio es de \", visits['duration'].mean())\n",
    "sns.histplot(visits['duration'], bins=50)\n",
    "plt.title('Distribución de Duración de Sesiones')"
   ]
  },
  {
   "cell_type": "markdown",
   "metadata": {},
   "source": [
    "Podemos ver que la sesiones no duran mucho,parece ser que hay un problema al abrir la pagina,pues sus visitas solo duran 0 segundos y poco mas.\n",
    "Veremos su moda para tener mejor vista de los datos,ya que la media no lo representa del todo:"
   ]
  },
  {
   "cell_type": "code",
   "execution_count": 20,
   "metadata": {},
   "outputs": [
    {
     "name": "stdout",
     "output_type": "stream",
     "text": [
      "0    60\n",
      "Name: duration, dtype: int32\n"
     ]
    }
   ],
   "source": [
    "print(visits['duration'].mode())"
   ]
  },
  {
   "cell_type": "markdown",
   "metadata": {},
   "source": [
    "60 segundos es lo que dura,puede ser debido a la dificultada para manejar la pagina,o incluso pueden ser fallos que provocan que la pagina se cierre.Tendremos que investigar."
   ]
  },
  {
   "cell_type": "markdown",
   "metadata": {},
   "source": [
    "## Ventas:"
   ]
  },
  {
   "cell_type": "code",
   "execution_count": 23,
   "metadata": {},
   "outputs": [
    {
     "data": {
      "text/plain": [
       "Text(0.5, 1.0, 'Días desde Registro hasta Primera Compra')"
      ]
     },
     "execution_count": 23,
     "metadata": {},
     "output_type": "execute_result"
    },
    {
     "data": {
      "image/png": "[encoded data removed]",
      "text/plain": [
       "<Figure size 640x480 with 1 Axes>"
      ]
     },
     "metadata": {},
     "output_type": "display_data"
    }
   ],
   "source": [
    "first_visit = visits.groupby('Uid')['Start Ts'].min().reset_index()\n",
    "first_purchase = orders.groupby('Uid')['Buy Ts'].min().reset_index()\n",
    "conversion_time = pd.merge(first_visit, first_purchase, on='Uid')\n",
    "conversion_time['Start Ts'] = pd.to_datetime(conversion_time['Start Ts'])\n",
    "conversion_time['Buy Ts'] = pd.to_datetime(conversion_time['Buy Ts'])\n",
    "conversion_time['days_to_purchase'] = (conversion_time['Buy Ts'] - conversion_time['Start Ts']).dt.days\n",
    "sns.histplot(conversion_time['days_to_purchase'], bins=20)\n",
    "plt.title('Días desde Registro hasta Primera Compra')"
   ]
  },
  {
   "cell_type": "markdown",
   "metadata": {},
   "source": [
    "Podemos observar que pasan normalmente menos de 50 dias para que la gente haga la compra.Por lo que podemos observar que normalmente cuando la gente entra a la pagina  compra entradas a los eventos en pocos dias."
   ]
  },
  {
   "cell_type": "code",
   "execution_count": 25,
   "metadata": {},
   "outputs": [
    {
     "name": "stdout",
     "output_type": "stream",
     "text": [
      "Número de pedidos por cohorte:\n",
      "  first_purchase_month  n_orders\n",
      "0              2017-06      4438\n",
      "1              2017-07      2910\n",
      "2              2017-08      2188\n",
      "3              2017-09      3878\n",
      "4              2017-10      6005\n",
      "5              2017-11      5900\n",
      "6              2017-12      5894\n",
      "7              2018-01      4308\n",
      "8              2018-02      4470\n",
      "9              2018-03      4484\n"
     ]
    }
   ],
   "source": [
    "orders['Buy Ts'] = pd.to_datetime(orders['Buy Ts'], format=\"%Y-%m-%d %H:%M:%S\") \n",
    "first_purchase = orders.groupby('Uid')['Buy Ts'].min().reset_index()\n",
    "first_purchase.columns = ['Uid', 'first_purchase_date']\n",
    "orders_with_cohort = orders.merge(first_purchase, on='Uid')\n",
    "\n",
    "orders_with_cohort['purchase_month'] = orders_with_cohort['Buy Ts'].dt.to_period('M')\n",
    "orders_with_cohort['first_purchase_month'] = orders_with_cohort['first_purchase_date'].dt.to_period('M')\n",
    "\n",
    "orders_per_cohort = orders_with_cohort.groupby('first_purchase_month').agg(\n",
    "    n_orders=('Uid', 'count')  # Número de pedidos por cohorte\n",
    ").reset_index()\n",
    "\n",
    "print(\"Número de pedidos por cohorte:\")\n",
    "print(orders_per_cohort.head(10))\n",
    "\n",
    "\n"
   ]
  },
  {
   "cell_type": "code",
   "execution_count": 29,
   "metadata": {},
   "outputs": [
    {
     "name": "stdout",
     "output_type": "stream",
     "text": [
      "\n",
      "Tamaño promedio de compra por cohorte:\n",
      "  first_purchase_month  avg_revenue\n",
      "0              2017-06     5.414982\n",
      "1              2017-07     5.542241\n",
      "2              2017-08     5.304506\n",
      "3              2017-09     8.941805\n",
      "4              2017-10     4.596744\n",
      "5              2017-11     4.423558\n",
      "6              2017-12     5.681327\n",
      "7              2018-01     3.867950\n",
      "8              2018-02     3.747315\n",
      "9              2018-03     4.298263\n"
     ]
    }
   ],
   "source": [
    "\n",
    "average_purchase_size = orders_with_cohort.groupby('first_purchase_month').agg(\n",
    "    avg_revenue=('Revenue', 'mean') \n",
    ").reset_index()\n",
    "\n",
    "print(\"\\nTamaño promedio de compra por cohorte:\")\n",
    "print(average_purchase_size.head(10))\n"
   ]
  },
  {
   "cell_type": "markdown",
   "metadata": {},
   "source": [
    "Podemos ver el numero de pedidos desde  2017-06-01  a 2018-03-01,al igual que sus tamaños de compra, donde:\n",
    "\n",
    "Octubre de 2017 tuvo la mayor cantidad de pedidos, sin embargo, su ingreso promedio por pedido ( 4.59 ) fue relativamente bajo.\n",
    "\n",
    "Por otro lado en septiembre de 2017 tuvo menos pedidos, pero el ticket promedio fue mucho más alto ( 8.94 ), lo cual puede indicar compras más grandes o productos más caros.\n",
    "\n",
    "Las cohortes recientes (2018) muestran un volumen de pedidos moderado pero una baja en el tamaño promedio de compra, lo que puede alertar sobre un cambio en el comportamiento del cliente o en la oferta de productos."
   ]
  },
  {
   "cell_type": "code",
   "execution_count": 31,
   "metadata": {},
   "outputs": [
    {
     "name": "stdout",
     "output_type": "stream",
     "text": [
      "LTV Acumulado por Cohorte ($):\n"
     ]
    },
    {
     "data": {
      "text/html": [
       "<div>\n",
       "<style scoped>\n",
       "    .dataframe tbody tr th:only-of-type {\n",
       "        vertical-align: middle;\n",
       "    }\n",
       "\n",
       "    .dataframe tbody tr th {\n",
       "        vertical-align: top;\n",
       "    }\n",
       "\n",
       "    .dataframe thead th {\n",
       "        text-align: right;\n",
       "    }\n",
       "</style>\n",
       "<table border=\"1\" class=\"dataframe\">\n",
       "  <thead>\n",
       "    <tr style=\"text-align: right;\">\n",
       "      <th>age</th>\n",
       "      <th>0</th>\n",
       "      <th>1</th>\n",
       "      <th>2</th>\n",
       "      <th>3</th>\n",
       "      <th>4</th>\n",
       "      <th>5</th>\n",
       "      <th>6</th>\n",
       "      <th>7</th>\n",
       "      <th>8</th>\n",
       "      <th>9</th>\n",
       "      <th>10</th>\n",
       "      <th>11</th>\n",
       "    </tr>\n",
       "    <tr>\n",
       "      <th>first_order_month</th>\n",
       "      <th></th>\n",
       "      <th></th>\n",
       "      <th></th>\n",
       "      <th></th>\n",
       "      <th></th>\n",
       "      <th></th>\n",
       "      <th></th>\n",
       "      <th></th>\n",
       "      <th></th>\n",
       "      <th></th>\n",
       "      <th></th>\n",
       "      <th></th>\n",
       "    </tr>\n",
       "  </thead>\n",
       "  <tbody>\n",
       "    <tr>\n",
       "      <th>2017-06-01</th>\n",
       "      <td>2.36</td>\n",
       "      <td>2.60</td>\n",
       "      <td>2.82</td>\n",
       "      <td>3.30</td>\n",
       "      <td>3.81</td>\n",
       "      <td>4.18</td>\n",
       "      <td>4.66</td>\n",
       "      <td>4.95</td>\n",
       "      <td>5.22</td>\n",
       "      <td>5.53</td>\n",
       "      <td>5.81</td>\n",
       "      <td>5.94</td>\n",
       "    </tr>\n",
       "    <tr>\n",
       "      <th>2017-07-01</th>\n",
       "      <td>3.01</td>\n",
       "      <td>3.17</td>\n",
       "      <td>3.48</td>\n",
       "      <td>3.66</td>\n",
       "      <td>3.75</td>\n",
       "      <td>3.83</td>\n",
       "      <td>3.89</td>\n",
       "      <td>3.96</td>\n",
       "      <td>4.04</td>\n",
       "      <td>4.12</td>\n",
       "      <td>4.19</td>\n",
       "      <td>0.00</td>\n",
       "    </tr>\n",
       "    <tr>\n",
       "      <th>2017-08-01</th>\n",
       "      <td>2.64</td>\n",
       "      <td>2.87</td>\n",
       "      <td>3.10</td>\n",
       "      <td>3.30</td>\n",
       "      <td>3.55</td>\n",
       "      <td>3.69</td>\n",
       "      <td>3.79</td>\n",
       "      <td>4.00</td>\n",
       "      <td>4.14</td>\n",
       "      <td>4.24</td>\n",
       "      <td>0.00</td>\n",
       "      <td>0.00</td>\n",
       "    </tr>\n",
       "    <tr>\n",
       "      <th>2017-09-01</th>\n",
       "      <td>2.82</td>\n",
       "      <td>3.38</td>\n",
       "      <td>3.64</td>\n",
       "      <td>5.63</td>\n",
       "      <td>5.83</td>\n",
       "      <td>6.15</td>\n",
       "      <td>6.50</td>\n",
       "      <td>6.63</td>\n",
       "      <td>6.72</td>\n",
       "      <td>0.00</td>\n",
       "      <td>0.00</td>\n",
       "      <td>0.00</td>\n",
       "    </tr>\n",
       "    <tr>\n",
       "      <th>2017-10-01</th>\n",
       "      <td>2.50</td>\n",
       "      <td>2.77</td>\n",
       "      <td>2.87</td>\n",
       "      <td>2.94</td>\n",
       "      <td>3.02</td>\n",
       "      <td>3.08</td>\n",
       "      <td>3.12</td>\n",
       "      <td>3.18</td>\n",
       "      <td>0.00</td>\n",
       "      <td>0.00</td>\n",
       "      <td>0.00</td>\n",
       "      <td>0.00</td>\n",
       "    </tr>\n",
       "    <tr>\n",
       "      <th>2017-11-01</th>\n",
       "      <td>2.58</td>\n",
       "      <td>2.78</td>\n",
       "      <td>2.88</td>\n",
       "      <td>3.04</td>\n",
       "      <td>3.11</td>\n",
       "      <td>3.14</td>\n",
       "      <td>3.20</td>\n",
       "      <td>0.00</td>\n",
       "      <td>0.00</td>\n",
       "      <td>0.00</td>\n",
       "      <td>0.00</td>\n",
       "      <td>0.00</td>\n",
       "    </tr>\n",
       "    <tr>\n",
       "      <th>2017-12-01</th>\n",
       "      <td>2.37</td>\n",
       "      <td>2.50</td>\n",
       "      <td>2.96</td>\n",
       "      <td>3.49</td>\n",
       "      <td>3.65</td>\n",
       "      <td>3.82</td>\n",
       "      <td>0.00</td>\n",
       "      <td>0.00</td>\n",
       "      <td>0.00</td>\n",
       "      <td>0.00</td>\n",
       "      <td>0.00</td>\n",
       "      <td>0.00</td>\n",
       "    </tr>\n",
       "    <tr>\n",
       "      <th>2018-01-01</th>\n",
       "      <td>2.07</td>\n",
       "      <td>2.22</td>\n",
       "      <td>2.37</td>\n",
       "      <td>2.44</td>\n",
       "      <td>2.47</td>\n",
       "      <td>0.00</td>\n",
       "      <td>0.00</td>\n",
       "      <td>0.00</td>\n",
       "      <td>0.00</td>\n",
       "      <td>0.00</td>\n",
       "      <td>0.00</td>\n",
       "      <td>0.00</td>\n",
       "    </tr>\n",
       "    <tr>\n",
       "      <th>2018-02-01</th>\n",
       "      <td>2.08</td>\n",
       "      <td>2.22</td>\n",
       "      <td>2.26</td>\n",
       "      <td>2.29</td>\n",
       "      <td>0.00</td>\n",
       "      <td>0.00</td>\n",
       "      <td>0.00</td>\n",
       "      <td>0.00</td>\n",
       "      <td>0.00</td>\n",
       "      <td>0.00</td>\n",
       "      <td>0.00</td>\n",
       "      <td>0.00</td>\n",
       "    </tr>\n",
       "    <tr>\n",
       "      <th>2018-03-01</th>\n",
       "      <td>2.42</td>\n",
       "      <td>2.57</td>\n",
       "      <td>2.73</td>\n",
       "      <td>0.00</td>\n",
       "      <td>0.00</td>\n",
       "      <td>0.00</td>\n",
       "      <td>0.00</td>\n",
       "      <td>0.00</td>\n",
       "      <td>0.00</td>\n",
       "      <td>0.00</td>\n",
       "      <td>0.00</td>\n",
       "      <td>0.00</td>\n",
       "    </tr>\n",
       "    <tr>\n",
       "      <th>2018-04-01</th>\n",
       "      <td>2.33</td>\n",
       "      <td>2.59</td>\n",
       "      <td>0.00</td>\n",
       "      <td>0.00</td>\n",
       "      <td>0.00</td>\n",
       "      <td>0.00</td>\n",
       "      <td>0.00</td>\n",
       "      <td>0.00</td>\n",
       "      <td>0.00</td>\n",
       "      <td>0.00</td>\n",
       "      <td>0.00</td>\n",
       "      <td>0.00</td>\n",
       "    </tr>\n",
       "    <tr>\n",
       "      <th>2018-05-01</th>\n",
       "      <td>2.33</td>\n",
       "      <td>0.00</td>\n",
       "      <td>0.00</td>\n",
       "      <td>0.00</td>\n",
       "      <td>0.00</td>\n",
       "      <td>0.00</td>\n",
       "      <td>0.00</td>\n",
       "      <td>0.00</td>\n",
       "      <td>0.00</td>\n",
       "      <td>0.00</td>\n",
       "      <td>0.00</td>\n",
       "      <td>0.00</td>\n",
       "    </tr>\n",
       "    <tr>\n",
       "      <th>2018-06-01</th>\n",
       "      <td>1.71</td>\n",
       "      <td>0.00</td>\n",
       "      <td>0.00</td>\n",
       "      <td>0.00</td>\n",
       "      <td>0.00</td>\n",
       "      <td>0.00</td>\n",
       "      <td>0.00</td>\n",
       "      <td>0.00</td>\n",
       "      <td>0.00</td>\n",
       "      <td>0.00</td>\n",
       "      <td>0.00</td>\n",
       "      <td>0.00</td>\n",
       "    </tr>\n",
       "  </tbody>\n",
       "</table>\n",
       "</div>"
      ],
      "text/plain": [
       "age                  0     1     2     3     4     5     6     7     8     9   \\\n",
       "first_order_month                                                               \n",
       "2017-06-01         2.36  2.60  2.82  3.30  3.81  4.18  4.66  4.95  5.22  5.53   \n",
       "2017-07-01         3.01  3.17  3.48  3.66  3.75  3.83  3.89  3.96  4.04  4.12   \n",
       "2017-08-01         2.64  2.87  3.10  3.30  3.55  3.69  3.79  4.00  4.14  4.24   \n",
       "2017-09-01         2.82  3.38  3.64  5.63  5.83  6.15  6.50  6.63  6.72  0.00   \n",
       "2017-10-01         2.50  2.77  2.87  2.94  3.02  3.08  3.12  3.18  0.00  0.00   \n",
       "2017-11-01         2.58  2.78  2.88  3.04  3.11  3.14  3.20  0.00  0.00  0.00   \n",
       "2017-12-01         2.37  2.50  2.96  3.49  3.65  3.82  0.00  0.00  0.00  0.00   \n",
       "2018-01-01         2.07  2.22  2.37  2.44  2.47  0.00  0.00  0.00  0.00  0.00   \n",
       "2018-02-01         2.08  2.22  2.26  2.29  0.00  0.00  0.00  0.00  0.00  0.00   \n",
       "2018-03-01         2.42  2.57  2.73  0.00  0.00  0.00  0.00  0.00  0.00  0.00   \n",
       "2018-04-01         2.33  2.59  0.00  0.00  0.00  0.00  0.00  0.00  0.00  0.00   \n",
       "2018-05-01         2.33  0.00  0.00  0.00  0.00  0.00  0.00  0.00  0.00  0.00   \n",
       "2018-06-01         1.71  0.00  0.00  0.00  0.00  0.00  0.00  0.00  0.00  0.00   \n",
       "\n",
       "age                  10    11  \n",
       "first_order_month              \n",
       "2017-06-01         5.81  5.94  \n",
       "2017-07-01         4.19  0.00  \n",
       "2017-08-01         0.00  0.00  \n",
       "2017-09-01         0.00  0.00  \n",
       "2017-10-01         0.00  0.00  \n",
       "2017-11-01         0.00  0.00  \n",
       "2017-12-01         0.00  0.00  \n",
       "2018-01-01         0.00  0.00  \n",
       "2018-02-01         0.00  0.00  \n",
       "2018-03-01         0.00  0.00  \n",
       "2018-04-01         0.00  0.00  \n",
       "2018-05-01         0.00  0.00  \n",
       "2018-06-01         0.00  0.00  "
      ]
     },
     "metadata": {},
     "output_type": "display_data"
    }
   ],
   "source": [
    "orders['Buy Ts'] = pd.to_datetime(orders['Buy Ts'], format=\"%Y-%m-%d %H:%M:%S\") \n",
    "\n",
    "orders['Buy Ts'] = pd.to_datetime(orders['Buy Ts'])\n",
    "orders['order_month'] = orders['Buy Ts'].dt.to_period('M').dt.to_timestamp()\n",
    "\n",
    "first_orders = orders.groupby('Uid')['order_month'].min().reset_index()\n",
    "first_orders.columns = ['Uid', 'first_order_month']\n",
    "\n",
    "cohort_sizes = first_orders.groupby('first_order_month')['Uid'].nunique().reset_index()\n",
    "cohort_sizes.columns = ['first_order_month', 'n_buyers']\n",
    "\n",
    "orders_with_cohort = pd.merge(orders, first_orders, on='Uid')\n",
    "\n",
    "cohort_data = orders_with_cohort.groupby(['first_order_month', 'order_month'])['Revenue'].sum().reset_index()\n",
    "\n",
    "report = pd.merge(cohort_sizes, cohort_data, on='first_order_month')\n",
    "\n",
    "\n",
    "report['age'] = (\n",
    "    (report['order_month'].values.astype('datetime64[M]') - \n",
    "    report['first_order_month'].values.astype('datetime64[M]')\n",
    ") / np.timedelta64(1, 'M'))\n",
    "\n",
    "report['age'] = report['age'].round().astype('int') \n",
    "\n",
    "margin_rate = 0.5\n",
    "report['ltv'] = (report['Revenue'] * margin_rate) / report['n_buyers']\n",
    "\n",
    "report['ltv_cumulative'] = report.groupby('first_order_month')['ltv'].cumsum()\n",
    "\n",
    "ltv_pivot = report.pivot_table(\n",
    "    index='first_order_month',\n",
    "    columns='age',\n",
    "    values='ltv_cumulative',\n",
    "    aggfunc='sum',\n",
    "    fill_value=0\n",
    ").round(2)\n",
    "\n",
    "\n",
    "print(\"LTV Acumulado por Cohorte ($):\")\n",
    "display(ltv_pivot)\n"
   ]
  },
  {
   "cell_type": "markdown",
   "metadata": {},
   "source": [
    "Con su LTV acumulativo podemos ver que el cohorte de septiembre 2017 es la más valiosa hasta ahora: tiene el LTV más alto acumulado en menos tiempo.\n",
    "\n",
    "Los cohortes de finales de 2017 (sep-dic) fueron fuertes en generación de valor. Mientras que los cohortes de 2018 comenzaron con un LTV inicial ligeramente más bajo, lo cual puede indicar un cambio en el comportamiento del cliente, en el producto o en la estrategia de adquisición.\n"
   ]
  },
  {
   "cell_type": "markdown",
   "metadata": {},
   "source": [
    "## Marketing:\n"
   ]
  },
  {
   "cell_type": "code",
   "execution_count": 36,
   "metadata": {},
   "outputs": [
    {
     "name": "stdout",
     "output_type": "stream",
     "text": [
      "Total gastado en marketing: $329,131.62 USD\n"
     ]
    }
   ],
   "source": [
    "total_spent = costs['costs'].sum()\n",
    "print(f\"Total gastado en marketing: ${total_spent:,.2f} USD\")"
   ]
  },
  {
   "cell_type": "code",
   "execution_count": 39,
   "metadata": {},
   "outputs": [
    {
     "name": "stdout",
     "output_type": "stream",
     "text": [
      "[ 1  2  3  4  5  9 10]\n"
     ]
    },
    {
     "data": {
      "image/png": "[encoded data removed]",
      "text/plain": [
       "<Figure size 1000x600 with 1 Axes>"
      ]
     },
     "metadata": {},
     "output_type": "display_data"
    }
   ],
   "source": [
    "print(costs['source_id'].unique())\n",
    "spent_by_source = costs.groupby('source_id')['costs'].sum().sort_values(ascending=False)\n",
    "plt.figure(figsize=(10,6))\n",
    "spent_by_source.plot(kind='bar', color='#3498db')\n",
    "plt.title('Gasto total por fuente de marketing')\n",
    "plt.ylabel('USD')\n",
    "plt.xlabel('Fuente ID')\n",
    "plt.xticks(rotation=0)\n",
    "plt.show()"
   ]
  },
  {
   "cell_type": "markdown",
   "metadata": {},
   "source": [
    "Podemos ver que la fuente con fuente id 3 es la que mas gasto genera,siguendole el 4 y el 5."
   ]
  },
  {
   "cell_type": "code",
   "execution_count": 42,
   "metadata": {},
   "outputs": [
    {
     "data": {
      "image/png": "[encoded data removed]",
      "text/plain": [
       "<Figure size 1200x600 with 1 Axes>"
      ]
     },
     "metadata": {},
     "output_type": "display_data"
    }
   ],
   "source": [
    "\n",
    "costs['dt'] = pd.to_datetime(costs['dt'])\n",
    "\n",
    "monthly_spending = costs.resample('M', on='dt')['costs'].sum()\n",
    "costs.set_index('dt', inplace=True)\n",
    "\n",
    "monthly_spending = costs['costs'].resample('M').sum()\n",
    "plt.figure(figsize=(12,6))\n",
    "monthly_spending.plot(color='#e74c3c')\n",
    "plt.title('Evolución mensual del gasto en marketing')\n",
    "plt.ylabel('USD')\n",
    "plt.xlabel('Fecha')\n",
    "plt.grid(True)\n",
    "plt.show()"
   ]
  },
  {
   "cell_type": "markdown",
   "metadata": {},
   "source": [
    "Podemos ver que el gastos subio en los ultimos meses del 2017 (de sep a dec),esto se puede deber a las ventas que se tienen en esos meses,gracias al fin de año."
   ]
  },
  {
   "cell_type": "code",
   "execution_count": 46,
   "metadata": {},
   "outputs": [
    {
     "name": "stdout",
     "output_type": "stream",
     "text": [
      "   source_id      costs  n_buyers        cac\n",
      "0          1   20833.27      2899   7.186364\n",
      "1          2   42806.04      3506  12.209367\n",
      "2          3  141321.63     10473  13.493901\n",
      "3          4   61073.60     10296   5.931779\n",
      "4          5   51757.10      6931   7.467479\n",
      "5          9    5517.49      1088   5.071222\n",
      "6         10    5822.49      1329   4.381106\n"
     ]
    },
    {
     "data": {
      "text/plain": [
       "([0, 1, 2, 3, 4, 5, 6],\n",
       " [Text(0, 0, '1'),\n",
       "  Text(1, 0, '2'),\n",
       "  Text(2, 0, '3'),\n",
       "  Text(3, 0, '4'),\n",
       "  Text(4, 0, '5'),\n",
       "  Text(5, 0, '9'),\n",
       "  Text(6, 0, '10')])"
      ]
     },
     "execution_count": 46,
     "metadata": {},
     "output_type": "execute_result"
    },
    {
     "data": {
      "image/png": "[encoded data removed]",
      "text/plain": [
       "<Figure size 1000x600 with 1 Axes>"
      ]
     },
     "metadata": {},
     "output_type": "display_data"
    }
   ],
   "source": [
    "first_source = visits.sort_values('Start Ts').groupby('Uid')['Source Id'].first().reset_index()\n",
    "\n",
    "buyers_by_source = pd.merge(orders[['Uid']].drop_duplicates(), \n",
    "                          first_source, \n",
    "                          on='Uid')['Source Id'].value_counts().reset_index()\n",
    "buyers_by_source.columns = ['source_id', 'n_buyers']\n",
    "\n",
    "costs_by_source = costs.groupby('source_id')['costs'].sum().reset_index()\n",
    "\n",
    "cac_by_source = pd.merge(costs_by_source, buyers_by_source, on='source_id')\n",
    "cac_by_source['cac'] = cac_by_source['costs'] / cac_by_source['n_buyers']\n",
    "\n",
    "print(cac_by_source)\n",
    "\n",
    "# Visualización\n",
    "plt.figure(figsize=(10, 6))\n",
    "sns.barplot(data=cac_by_source.sort_values('cac'), \n",
    "            x='source_id', \n",
    "            y='cac',)\n",
    "\n",
    "plt.title('Costo de Adquisición por Cliente (CAC) por Fuente', fontsize=16)\n",
    "plt.xlabel('Fuente de Marketing', fontsize=12)\n",
    "plt.ylabel('CAC (USD por cliente)', fontsize=12)\n",
    "plt.xticks(rotation=0)\n"
   ]
  },
  {
   "cell_type": "code",
   "execution_count": 47,
   "metadata": {},
   "outputs": [],
   "source": [
    "costs = costs.reset_index()\n"
   ]
  },
  {
   "cell_type": "code",
   "execution_count": 48,
   "metadata": {},
   "outputs": [
    {
     "name": "stdout",
     "output_type": "stream",
     "text": [
      "<class 'pandas.core.frame.DataFrame'>\n",
      "RangeIndex: 79 entries, 0 to 78\n",
      "Data columns (total 7 columns):\n",
      " #   Column             Non-Null Count  Dtype         \n",
      "---  ------             --------------  -----         \n",
      " 0   first_order_month  79 non-null     datetime64[ns]\n",
      " 1   n_buyers           79 non-null     int64         \n",
      " 2   order_month        79 non-null     datetime64[ns]\n",
      " 3   Revenue            79 non-null     float64       \n",
      " 4   age                79 non-null     int32         \n",
      " 5   ltv                79 non-null     float64       \n",
      " 6   ltv_cumulative     79 non-null     float64       \n",
      "dtypes: datetime64[ns](2), float64(3), int32(1), int64(1)\n",
      "memory usage: 4.1 KB\n"
     ]
    }
   ],
   "source": [
    "report.info()"
   ]
  },
  {
   "cell_type": "markdown",
   "metadata": {},
   "source": [
    "Podemos ver que  el costo de adquisición de clientes de cada una de las fuentes ,en donde al igual que el gasto por cada fuente, la fuente 3 es la que mas costo genera con 13.49,siendo la funeta 2 la segunda que mas costo genera con 12.21."
   ]
  },
  {
   "cell_type": "code",
   "execution_count": 50,
   "metadata": {},
   "outputs": [
    {
     "name": "stdout",
     "output_type": "stream",
     "text": [
      "age          0     1     2     3     4     5     6     7     8     9     10  \\\n",
      "source_id                                                                     \n",
      "1          0.33  0.36  0.39  0.46  0.53  0.58  0.65  0.69  0.73  0.77  0.81   \n",
      "2          0.19  0.21  0.23  0.27  0.31  0.34  0.38  0.41  0.43  0.45  0.48   \n",
      "3          0.18  0.19  0.21  0.24  0.28  0.31  0.34  0.37  0.39  0.41  0.43   \n",
      "4          0.40  0.44  0.48  0.56  0.64  0.70  0.78  0.83  0.88  0.93  0.98   \n",
      "5          0.32  0.35  0.38  0.44  0.51  0.56  0.62  0.66  0.70  0.74  0.78   \n",
      "9          0.47  0.51  0.56  0.65  0.75  0.82  0.92  0.98  1.03  1.09  1.15   \n",
      "10         0.54  0.59  0.64  0.75  0.87  0.95  1.06  1.13  1.19  1.26  1.33   \n",
      "\n",
      "age          11  \n",
      "source_id        \n",
      "1          0.83  \n",
      "2          0.49  \n",
      "3          0.44  \n",
      "4          1.00  \n",
      "5          0.80  \n",
      "9          1.17  \n",
      "10         1.36  \n"
     ]
    }
   ],
   "source": [
    "\n",
    "costs['order_month'] = pd.to_datetime(costs['dt']).dt.to_period('M')\n",
    "first_costs = costs.groupby('source_id').agg({'order_month': 'min'}).reset_index()\n",
    "first_costs.columns = ['source_id', 'first_order_month']\n",
    "first_costs['first_order_month'] = first_costs['first_order_month'].dt.to_timestamp()\n",
    "\n",
    "report = pd.merge(report, first_costs, on='first_order_month')\n",
    "report = pd.merge(report,cac_by_source, on='source_id')\n",
    "report['romi'] = report['ltv'] / report['cac']\n",
    "\n",
    "output = report.pivot_table(\n",
    "    index='source_id',  \n",
    "    columns='age', \n",
    "    values='romi', \n",
    "    aggfunc='mean'\n",
    ")\n",
    "\n",
    "resultado_romi = output.cumsum(axis=1).round(2)\n",
    "\n",
    "print(resultado_romi)"
   ]
  },
  {
   "cell_type": "code",
   "execution_count": 51,
   "metadata": {},
   "outputs": [
    {
     "data": {
      "text/plain": [
       "age\n",
       "0     0.345255\n",
       "1     0.035467\n",
       "2     0.031982\n",
       "3     0.069766\n",
       "4     0.074726\n",
       "5     0.053750\n",
       "6     0.069457\n",
       "7     0.042502\n",
       "8     0.040428\n",
       "9     0.044270\n",
       "10    0.041747\n",
       "11    0.018771\n",
       "dtype: float64"
      ]
     },
     "execution_count": 51,
     "metadata": {},
     "output_type": "execute_result"
    }
   ],
   "source": [
    "output.mean(axis=0)\n"
   ]
  },
  {
   "cell_type": "markdown",
   "metadata": {},
   "source": [
    "Podemos observar que la fuente 10 ,9 y 4 son las fuentres que han recuperado su inversion con el paso de 11 meses.siendo solo la fuente 10 y 11 son las que generaron rendimiento 36% y 17%. \n"
   ]
  },
  {
   "cell_type": "markdown",
   "metadata": {},
   "source": [
    "# Paso 3. Escribe una conclusión: aconseja a los expertos de marketing cuánto dinero invertir y dónde\n"
   ]
  },
  {
   "cell_type": "markdown",
   "metadata": {},
   "source": [
    "Enfocantome en la metricas DAU, WAU, MAU  y Sticky Factor (DAU/WAU) y Sticky Factor (DAU/MAU),pudimos ver que tenemos un promedio de 23228 personas al mes,5716 a la semana y 908 al dia.De los cuales tenemos el 16%  de retencion de usuarios diariamente a la semana, y 4% de usuarios diariamente al mes.\n",
    "Sticky Factor (DAU/MAU): 4%.Por lo que solo un pequeño grupo de personas compra entradas constantemente o simplemente se mete a ver las pomociones/ eventos.En lo personal aconsejaria invertir en las fuentes de anuncio 10 y 11,ya que son las que con la metrica ROMI pudimos observar que generan ganacia con el paso de 11 meses,al igual que son las que menos costo de Adquisición por Cliente (CAC) tienen (igual gracias a ello podemos decir que generan ganancia,porque son las que menos cuesta).\n",
    "Y no invertiria en los anuncios en que mas se gasta como lo son el 3 ya que este solo genera 44% de retorno,osea que no te regresa lo que inviertes,por otro lado la fuente de auncios 4 si te regresaria al cabo de los 11 meses tu inversion ,pero no te regresa ganancia.\n",
    "\n",
    "Es decir,analizando las graficas puedo decir que a la fuente que mayor costo tiene,es la que menos retorno de inversion genera,y a la fuente que menos costo tiene mas retorno de inverion genera. Al igual con la LTV podemos legar a la conclusion que en la primeras compras en junio y en septiembre son las compras que despues del paso del tiempo generan compras acumumuladas bastante altas\n"
   ]
  }
 ],
 "metadata": {
  "ExecuteTimeLog": [
   {
    "duration": 2644,
    "start_time": "2025-04-14T20:56:33.760Z"
   },
   {
    "duration": 460,
    "start_time": "2025-04-14T20:56:46.216Z"
   },
   {
    "duration": 9,
    "start_time": "2025-04-14T21:00:23.125Z"
   },
   {
    "duration": 8,
    "start_time": "2025-04-14T21:01:11.483Z"
   },
   {
    "duration": 55,
    "start_time": "2025-04-14T21:02:02.467Z"
   },
   {
    "duration": 7,
    "start_time": "2025-04-14T21:02:38.115Z"
   },
   {
    "duration": 133,
    "start_time": "2025-04-14T21:05:36.315Z"
   },
   {
    "duration": 134,
    "start_time": "2025-04-14T21:20:36.363Z"
   },
   {
    "duration": 458,
    "start_time": "2025-04-14T21:20:38.924Z"
   },
   {
    "duration": 303,
    "start_time": "2025-04-14T21:22:36.050Z"
   },
   {
    "duration": 13,
    "start_time": "2025-04-14T21:26:46.483Z"
   },
   {
    "duration": 5,
    "start_time": "2025-04-14T21:28:25.812Z"
   },
   {
    "duration": 20,
    "start_time": "2025-04-14T21:28:53.666Z"
   },
   {
    "duration": 17,
    "start_time": "2025-04-14T21:30:10.307Z"
   },
   {
    "duration": 14,
    "start_time": "2025-04-14T21:30:27.428Z"
   },
   {
    "duration": 19,
    "start_time": "2025-04-14T21:30:47.899Z"
   },
   {
    "duration": 4,
    "start_time": "2025-04-14T21:31:11.740Z"
   },
   {
    "duration": 4,
    "start_time": "2025-04-14T21:31:28.137Z"
   },
   {
    "duration": 4,
    "start_time": "2025-04-14T21:32:12.514Z"
   },
   {
    "duration": 23,
    "start_time": "2025-04-14T21:37:38.246Z"
   },
   {
    "duration": 4,
    "start_time": "2025-04-14T21:37:45.205Z"
   },
   {
    "duration": 157,
    "start_time": "2025-04-14T23:56:43.104Z"
   },
   {
    "duration": 2903,
    "start_time": "2025-04-14T23:56:49.096Z"
   },
   {
    "duration": 49,
    "start_time": "2025-04-14T23:56:52.154Z"
   },
   {
    "duration": 8,
    "start_time": "2025-04-14T23:56:57.045Z"
   },
   {
    "duration": 237,
    "start_time": "2025-04-14T23:57:00.403Z"
   },
   {
    "duration": 183,
    "start_time": "2025-04-14T23:57:03.354Z"
   },
   {
    "duration": 4,
    "start_time": "2025-04-14T23:57:06.008Z"
   },
   {
    "duration": 3,
    "start_time": "2025-04-14T23:57:08.351Z"
   },
   {
    "duration": 186,
    "start_time": "2025-04-14T23:57:11.495Z"
   },
   {
    "duration": 75,
    "start_time": "2025-04-14T23:57:20.729Z"
   },
   {
    "duration": 71,
    "start_time": "2025-04-14T23:59:35.870Z"
   },
   {
    "duration": 296,
    "start_time": "2025-04-15T00:04:21.744Z"
   },
   {
    "duration": 7,
    "start_time": "2025-04-15T00:07:18.222Z"
   },
   {
    "duration": 2594,
    "start_time": "2025-04-15T00:29:07.218Z"
   },
   {
    "duration": 2467,
    "start_time": "2025-04-15T00:32:38.374Z"
   },
   {
    "duration": 2628,
    "start_time": "2025-04-15T00:33:46.019Z"
   },
   {
    "duration": 2322,
    "start_time": "2025-04-15T00:33:58.625Z"
   },
   {
    "duration": 2634,
    "start_time": "2025-04-15T00:35:09.008Z"
   },
   {
    "duration": 2563,
    "start_time": "2025-04-15T00:35:31.962Z"
   },
   {
    "duration": 2596,
    "start_time": "2025-04-15T00:35:51.844Z"
   },
   {
    "duration": 2494,
    "start_time": "2025-04-15T00:36:02.120Z"
   },
   {
    "duration": 408,
    "start_time": "2025-04-15T00:50:57.519Z"
   },
   {
    "duration": 45,
    "start_time": "2025-04-15T00:51:07.634Z"
   },
   {
    "duration": 21,
    "start_time": "2025-04-15T00:52:40.713Z"
   },
   {
    "duration": 153,
    "start_time": "2025-04-15T00:54:56.346Z"
   },
   {
    "duration": 65,
    "start_time": "2025-04-15T00:58:49.079Z"
   },
   {
    "duration": 64,
    "start_time": "2025-04-15T00:59:18.967Z"
   },
   {
    "duration": 369,
    "start_time": "2025-04-15T01:02:36.930Z"
   },
   {
    "duration": 310,
    "start_time": "2025-04-15T01:04:10.645Z"
   },
   {
    "duration": 781,
    "start_time": "2025-04-15T01:04:47.858Z"
   },
   {
    "duration": 387,
    "start_time": "2025-04-15T01:05:09.340Z"
   },
   {
    "duration": 280,
    "start_time": "2025-04-15T01:05:30.501Z"
   },
   {
    "duration": 464,
    "start_time": "2025-04-15T01:05:52.542Z"
   },
   {
    "duration": 282,
    "start_time": "2025-04-15T01:06:06.335Z"
   },
   {
    "duration": 322,
    "start_time": "2025-04-15T01:06:21.270Z"
   },
   {
    "duration": 1425,
    "start_time": "2025-04-15T01:06:47.111Z"
   },
   {
    "duration": 418,
    "start_time": "2025-04-15T01:07:17.687Z"
   },
   {
    "duration": 1001,
    "start_time": "2025-04-15T01:07:21.795Z"
   },
   {
    "duration": 1094,
    "start_time": "2025-04-15T01:07:52.331Z"
   },
   {
    "duration": 1308,
    "start_time": "2025-04-15T01:08:29.736Z"
   },
   {
    "duration": 1522,
    "start_time": "2025-04-15T01:08:48.310Z"
   },
   {
    "duration": 681,
    "start_time": "2025-04-15T01:09:18.491Z"
   },
   {
    "duration": 1497,
    "start_time": "2025-04-15T01:09:49.460Z"
   },
   {
    "duration": 1289,
    "start_time": "2025-04-15T01:12:42.164Z"
   },
   {
    "duration": 113,
    "start_time": "2025-04-15T01:15:01.313Z"
   },
   {
    "duration": 49,
    "start_time": "2025-04-15T01:15:49.326Z"
   },
   {
    "duration": 55,
    "start_time": "2025-04-15T01:16:14.793Z"
   },
   {
    "duration": 161,
    "start_time": "2025-04-15T01:16:52.408Z"
   },
   {
    "duration": 759,
    "start_time": "2025-04-15T01:18:12.328Z"
   },
   {
    "duration": 50,
    "start_time": "2025-04-15T01:23:06.176Z"
   },
   {
    "duration": 16,
    "start_time": "2025-04-15T01:23:51.450Z"
   },
   {
    "duration": 24,
    "start_time": "2025-04-15T01:26:03.248Z"
   },
   {
    "duration": 165,
    "start_time": "2025-04-15T01:26:17.340Z"
   },
   {
    "duration": 22,
    "start_time": "2025-04-15T01:28:23.255Z"
   },
   {
    "duration": 16,
    "start_time": "2025-04-15T01:28:54.347Z"
   },
   {
    "duration": 2753,
    "start_time": "2025-04-15T01:50:58.684Z"
   },
   {
    "duration": 2336,
    "start_time": "2025-04-15T01:52:22.396Z"
   },
   {
    "duration": 2387,
    "start_time": "2025-04-15T01:53:14.153Z"
   },
   {
    "duration": 2435,
    "start_time": "2025-04-15T01:54:03.668Z"
   },
   {
    "duration": 2404,
    "start_time": "2025-04-15T01:55:19.180Z"
   },
   {
    "duration": 2375,
    "start_time": "2025-04-15T01:57:01.510Z"
   },
   {
    "duration": 2434,
    "start_time": "2025-04-15T01:57:58.925Z"
   },
   {
    "duration": 2419,
    "start_time": "2025-04-15T01:58:27.985Z"
   },
   {
    "duration": 346,
    "start_time": "2025-04-15T01:59:12.271Z"
   },
   {
    "duration": 49,
    "start_time": "2025-04-15T01:59:15.175Z"
   },
   {
    "duration": 368,
    "start_time": "2025-04-15T01:59:27.387Z"
   },
   {
    "duration": 2304,
    "start_time": "2025-04-15T01:59:44.623Z"
   },
   {
    "duration": 2323,
    "start_time": "2025-04-15T02:00:13.428Z"
   },
   {
    "duration": 2391,
    "start_time": "2025-04-15T02:00:43.259Z"
   },
   {
    "duration": 2384,
    "start_time": "2025-04-15T02:01:09.800Z"
   },
   {
    "duration": 2462,
    "start_time": "2025-04-15T02:02:46.700Z"
   },
   {
    "duration": 2457,
    "start_time": "2025-04-15T02:03:33.685Z"
   },
   {
    "duration": 2325,
    "start_time": "2025-04-15T02:04:00.310Z"
   },
   {
    "duration": 2296,
    "start_time": "2025-04-15T02:05:45.684Z"
   },
   {
    "duration": 38,
    "start_time": "2025-04-15T02:05:57.821Z"
   },
   {
    "duration": 10,
    "start_time": "2025-04-15T02:06:13.081Z"
   },
   {
    "duration": 2474,
    "start_time": "2025-04-15T02:08:34.437Z"
   },
   {
    "duration": 2614,
    "start_time": "2025-04-15T02:08:52.034Z"
   },
   {
    "duration": 2426,
    "start_time": "2025-04-15T02:17:14.433Z"
   },
   {
    "duration": 2435,
    "start_time": "2025-04-15T02:17:35.481Z"
   },
   {
    "duration": 2499,
    "start_time": "2025-04-15T02:21:40.254Z"
   },
   {
    "duration": 2405,
    "start_time": "2025-04-15T02:23:14.248Z"
   },
   {
    "duration": 2363,
    "start_time": "2025-04-15T02:27:22.659Z"
   },
   {
    "duration": 16,
    "start_time": "2025-04-15T02:30:46.339Z"
   },
   {
    "duration": 29,
    "start_time": "2025-04-15T02:45:33.147Z"
   },
   {
    "duration": 32,
    "start_time": "2025-04-15T02:45:54.324Z"
   },
   {
    "duration": 67,
    "start_time": "2025-04-15T03:04:27.796Z"
   },
   {
    "duration": 52,
    "start_time": "2025-04-15T03:05:23.910Z"
   },
   {
    "duration": 1139,
    "start_time": "2025-04-15T03:05:59.517Z"
   },
   {
    "duration": 54,
    "start_time": "2025-04-15T03:06:04.468Z"
   },
   {
    "duration": 8,
    "start_time": "2025-04-15T03:06:04.797Z"
   },
   {
    "duration": 233,
    "start_time": "2025-04-15T03:06:06.054Z"
   },
   {
    "duration": 195,
    "start_time": "2025-04-15T03:06:06.556Z"
   },
   {
    "duration": 4,
    "start_time": "2025-04-15T03:06:07.002Z"
   },
   {
    "duration": 3,
    "start_time": "2025-04-15T03:06:07.458Z"
   },
   {
    "duration": 79,
    "start_time": "2025-04-15T03:06:07.914Z"
   },
   {
    "duration": 258,
    "start_time": "2025-04-15T03:06:08.330Z"
   },
   {
    "duration": 5,
    "start_time": "2025-04-15T03:06:08.853Z"
   },
   {
    "duration": 2593,
    "start_time": "2025-04-15T03:06:09.542Z"
   },
   {
    "duration": 2405,
    "start_time": "2025-04-15T03:06:12.137Z"
   },
   {
    "duration": 9,
    "start_time": "2025-04-15T03:06:14.544Z"
   },
   {
    "duration": 654,
    "start_time": "2025-04-15T03:06:14.555Z"
   },
   {
    "duration": 49,
    "start_time": "2025-04-15T03:07:03.763Z"
   },
   {
    "duration": 151,
    "start_time": "2025-04-15T03:07:40.912Z"
   },
   {
    "duration": 45,
    "start_time": "2025-04-15T03:08:03.893Z"
   },
   {
    "duration": 43,
    "start_time": "2025-04-15T03:08:29.471Z"
   },
   {
    "duration": 64,
    "start_time": "2025-04-15T03:09:24.055Z"
   },
   {
    "duration": 50,
    "start_time": "2025-04-15T03:15:47.155Z"
   },
   {
    "duration": 42,
    "start_time": "2025-04-15T03:16:10.182Z"
   },
   {
    "duration": 433,
    "start_time": "2025-04-15T03:16:28.340Z"
   },
   {
    "duration": 1141,
    "start_time": "2025-04-15T03:28:00.037Z"
   },
   {
    "duration": 52,
    "start_time": "2025-04-15T03:28:01.420Z"
   },
   {
    "duration": 8,
    "start_time": "2025-04-15T03:28:01.813Z"
   },
   {
    "duration": 236,
    "start_time": "2025-04-15T03:28:02.985Z"
   },
   {
    "duration": 183,
    "start_time": "2025-04-15T03:28:03.443Z"
   },
   {
    "duration": 4,
    "start_time": "2025-04-15T03:28:03.919Z"
   },
   {
    "duration": 3,
    "start_time": "2025-04-15T03:28:04.323Z"
   },
   {
    "duration": 75,
    "start_time": "2025-04-15T03:28:04.751Z"
   },
   {
    "duration": 251,
    "start_time": "2025-04-15T03:28:05.151Z"
   },
   {
    "duration": 6,
    "start_time": "2025-04-15T03:28:05.606Z"
   },
   {
    "duration": 2589,
    "start_time": "2025-04-15T03:28:06.215Z"
   },
   {
    "duration": 2213,
    "start_time": "2025-04-15T03:28:08.806Z"
   },
   {
    "duration": 11,
    "start_time": "2025-04-15T03:28:11.021Z"
   },
   {
    "duration": 59,
    "start_time": "2025-04-15T03:28:11.035Z"
   },
   {
    "duration": 602,
    "start_time": "2025-04-15T03:31:46.548Z"
   },
   {
    "duration": 8,
    "start_time": "2025-04-15T03:31:54.350Z"
   },
   {
    "duration": 258,
    "start_time": "2025-04-15T03:39:01.447Z"
   },
   {
    "duration": 52,
    "start_time": "2025-04-15T03:41:52.068Z"
   },
   {
    "duration": 125,
    "start_time": "2025-04-15T03:42:07.781Z"
   },
   {
    "duration": 63,
    "start_time": "2025-04-15T03:42:25.698Z"
   },
   {
    "duration": 5,
    "start_time": "2025-04-15T04:24:07.290Z"
   },
   {
    "duration": 3,
    "start_time": "2025-04-15T04:24:24.430Z"
   },
   {
    "duration": 130,
    "start_time": "2025-04-15T04:24:45.625Z"
   },
   {
    "duration": 18,
    "start_time": "2025-04-15T04:25:44.326Z"
   },
   {
    "duration": 126,
    "start_time": "2025-04-15T04:26:22.313Z"
   },
   {
    "duration": 262,
    "start_time": "2025-04-15T04:33:41.901Z"
   },
   {
    "duration": 278,
    "start_time": "2025-04-15T04:36:08.741Z"
   },
   {
    "duration": 58,
    "start_time": "2025-04-15T04:36:46.305Z"
   },
   {
    "duration": 65,
    "start_time": "2025-04-15T04:37:09.995Z"
   },
   {
    "duration": 55,
    "start_time": "2025-04-15T04:37:38.085Z"
   },
   {
    "duration": 46,
    "start_time": "2025-04-15T04:38:40.770Z"
   },
   {
    "duration": 1269,
    "start_time": "2025-04-15T04:39:39.287Z"
   },
   {
    "duration": 69,
    "start_time": "2025-04-15T04:39:40.558Z"
   },
   {
    "duration": 11,
    "start_time": "2025-04-15T04:39:40.629Z"
   },
   {
    "duration": 318,
    "start_time": "2025-04-15T04:39:41.068Z"
   },
   {
    "duration": 232,
    "start_time": "2025-04-15T04:39:41.457Z"
   },
   {
    "duration": 5,
    "start_time": "2025-04-15T04:39:41.802Z"
   },
   {
    "duration": 3,
    "start_time": "2025-04-15T04:39:42.194Z"
   },
   {
    "duration": 113,
    "start_time": "2025-04-15T04:39:42.573Z"
   },
   {
    "duration": 323,
    "start_time": "2025-04-15T04:39:42.936Z"
   },
   {
    "duration": 17,
    "start_time": "2025-04-15T04:39:43.309Z"
   },
   {
    "duration": 2823,
    "start_time": "2025-04-15T04:39:43.877Z"
   },
   {
    "duration": 2681,
    "start_time": "2025-04-15T04:39:46.703Z"
   },
   {
    "duration": 13,
    "start_time": "2025-04-15T04:39:49.386Z"
   },
   {
    "duration": 22,
    "start_time": "2025-04-15T04:39:49.401Z"
   },
   {
    "duration": 0,
    "start_time": "2025-04-15T04:39:49.435Z"
   },
   {
    "duration": 0,
    "start_time": "2025-04-15T04:39:49.436Z"
   },
   {
    "duration": 0,
    "start_time": "2025-04-15T04:39:49.436Z"
   },
   {
    "duration": 72,
    "start_time": "2025-04-15T04:40:24.615Z"
   },
   {
    "duration": 4,
    "start_time": "2025-04-15T04:40:30.002Z"
   },
   {
    "duration": 144,
    "start_time": "2025-04-15T04:40:31.830Z"
   },
   {
    "duration": 613,
    "start_time": "2025-04-15T04:40:35.892Z"
   },
   {
    "duration": 199,
    "start_time": "2025-04-15T04:40:51.459Z"
   },
   {
    "duration": 316,
    "start_time": "2025-04-15T04:44:28.491Z"
   },
   {
    "duration": 433,
    "start_time": "2025-04-15T04:51:34.285Z"
   },
   {
    "duration": 1179,
    "start_time": "2025-04-15T04:51:57.868Z"
   },
   {
    "duration": 47,
    "start_time": "2025-04-15T04:51:59.978Z"
   },
   {
    "duration": 8,
    "start_time": "2025-04-15T04:52:00.186Z"
   },
   {
    "duration": 247,
    "start_time": "2025-04-15T04:52:00.910Z"
   },
   {
    "duration": 184,
    "start_time": "2025-04-15T04:52:01.253Z"
   },
   {
    "duration": 4,
    "start_time": "2025-04-15T04:52:01.621Z"
   },
   {
    "duration": 3,
    "start_time": "2025-04-15T04:52:02.098Z"
   },
   {
    "duration": 76,
    "start_time": "2025-04-15T04:52:02.491Z"
   },
   {
    "duration": 266,
    "start_time": "2025-04-15T04:52:02.875Z"
   },
   {
    "duration": 5,
    "start_time": "2025-04-15T04:52:03.407Z"
   },
   {
    "duration": 2498,
    "start_time": "2025-04-15T04:52:03.957Z"
   },
   {
    "duration": 2332,
    "start_time": "2025-04-15T04:52:06.457Z"
   },
   {
    "duration": 10,
    "start_time": "2025-04-15T04:52:08.791Z"
   },
   {
    "duration": 78,
    "start_time": "2025-04-15T04:52:08.802Z"
   },
   {
    "duration": 3,
    "start_time": "2025-04-15T04:52:08.882Z"
   },
   {
    "duration": 162,
    "start_time": "2025-04-15T04:52:08.887Z"
   },
   {
    "duration": 163,
    "start_time": "2025-04-15T04:52:09.051Z"
   },
   {
    "duration": 614,
    "start_time": "2025-04-15T04:52:09.216Z"
   },
   {
    "duration": 46,
    "start_time": "2025-04-15T04:52:51.141Z"
   },
   {
    "duration": 48,
    "start_time": "2025-04-15T04:53:31.139Z"
   },
   {
    "duration": 53,
    "start_time": "2025-04-15T04:53:39.932Z"
   },
   {
    "duration": 53,
    "start_time": "2025-04-15T04:55:01.476Z"
   },
   {
    "duration": 47,
    "start_time": "2025-04-15T04:55:21.112Z"
   },
   {
    "duration": 17,
    "start_time": "2025-04-15T04:55:42.988Z"
   },
   {
    "duration": 5,
    "start_time": "2025-04-15T04:55:57.470Z"
   },
   {
    "duration": 50,
    "start_time": "2025-04-15T04:56:09.345Z"
   },
   {
    "duration": 48,
    "start_time": "2025-04-15T04:56:31.993Z"
   },
   {
    "duration": 1101,
    "start_time": "2025-04-15T04:56:46.977Z"
   },
   {
    "duration": 51,
    "start_time": "2025-04-15T04:56:48.080Z"
   },
   {
    "duration": 7,
    "start_time": "2025-04-15T04:56:48.169Z"
   },
   {
    "duration": 234,
    "start_time": "2025-04-15T04:56:49.234Z"
   },
   {
    "duration": 182,
    "start_time": "2025-04-15T04:56:49.702Z"
   },
   {
    "duration": 4,
    "start_time": "2025-04-15T04:56:50.034Z"
   },
   {
    "duration": 3,
    "start_time": "2025-04-15T04:56:50.416Z"
   },
   {
    "duration": 76,
    "start_time": "2025-04-15T04:56:50.924Z"
   },
   {
    "duration": 247,
    "start_time": "2025-04-15T04:56:51.529Z"
   },
   {
    "duration": 5,
    "start_time": "2025-04-15T04:56:51.943Z"
   },
   {
    "duration": 2824,
    "start_time": "2025-04-15T04:56:52.537Z"
   },
   {
    "duration": 2381,
    "start_time": "2025-04-15T04:56:55.364Z"
   },
   {
    "duration": 10,
    "start_time": "2025-04-15T04:56:57.747Z"
   },
   {
    "duration": 79,
    "start_time": "2025-04-15T04:56:57.759Z"
   },
   {
    "duration": 3,
    "start_time": "2025-04-15T04:56:57.840Z"
   },
   {
    "duration": 140,
    "start_time": "2025-04-15T04:56:57.844Z"
   },
   {
    "duration": 172,
    "start_time": "2025-04-15T04:56:57.986Z"
   },
   {
    "duration": 659,
    "start_time": "2025-04-15T04:56:58.160Z"
   },
   {
    "duration": 0,
    "start_time": "2025-04-15T04:56:58.821Z"
   },
   {
    "duration": 49,
    "start_time": "2025-04-15T04:57:26.889Z"
   },
   {
    "duration": 48,
    "start_time": "2025-04-15T04:57:43.574Z"
   },
   {
    "duration": 159,
    "start_time": "2025-04-15T04:58:19.365Z"
   },
   {
    "duration": 19,
    "start_time": "2025-04-15T04:58:19.882Z"
   },
   {
    "duration": 26,
    "start_time": "2025-04-15T04:58:20.650Z"
   },
   {
    "duration": 1124,
    "start_time": "2025-04-15T04:58:33.600Z"
   },
   {
    "duration": 61,
    "start_time": "2025-04-15T04:58:34.728Z"
   },
   {
    "duration": 9,
    "start_time": "2025-04-15T04:58:34.790Z"
   },
   {
    "duration": 238,
    "start_time": "2025-04-15T04:58:35.069Z"
   },
   {
    "duration": 192,
    "start_time": "2025-04-15T04:58:35.433Z"
   },
   {
    "duration": 4,
    "start_time": "2025-04-15T04:58:35.862Z"
   },
   {
    "duration": 4,
    "start_time": "2025-04-15T04:58:36.180Z"
   },
   {
    "duration": 80,
    "start_time": "2025-04-15T04:58:36.522Z"
   },
   {
    "duration": 252,
    "start_time": "2025-04-15T04:58:37.275Z"
   },
   {
    "duration": 6,
    "start_time": "2025-04-15T04:58:37.639Z"
   },
   {
    "duration": 2587,
    "start_time": "2025-04-15T04:58:38.373Z"
   },
   {
    "duration": 2434,
    "start_time": "2025-04-15T04:58:40.962Z"
   },
   {
    "duration": 15,
    "start_time": "2025-04-15T04:58:43.398Z"
   },
   {
    "duration": 63,
    "start_time": "2025-04-15T04:58:43.416Z"
   },
   {
    "duration": 3,
    "start_time": "2025-04-15T04:58:43.480Z"
   },
   {
    "duration": 151,
    "start_time": "2025-04-15T04:58:43.485Z"
   },
   {
    "duration": 531,
    "start_time": "2025-04-15T04:58:43.637Z"
   },
   {
    "duration": 0,
    "start_time": "2025-04-15T04:58:44.170Z"
   },
   {
    "duration": 0,
    "start_time": "2025-04-15T04:58:44.172Z"
   },
   {
    "duration": 155,
    "start_time": "2025-04-15T05:00:10.841Z"
   },
   {
    "duration": 435,
    "start_time": "2025-04-15T05:00:18.666Z"
   },
   {
    "duration": 159,
    "start_time": "2025-04-15T05:03:20.312Z"
   },
   {
    "duration": 46,
    "start_time": "2025-04-15T05:03:28.807Z"
   },
   {
    "duration": 43,
    "start_time": "2025-04-15T05:03:42.802Z"
   },
   {
    "duration": 1136,
    "start_time": "2025-04-15T05:03:52.539Z"
   },
   {
    "duration": 53,
    "start_time": "2025-04-15T05:03:54.555Z"
   },
   {
    "duration": 8,
    "start_time": "2025-04-15T05:03:54.752Z"
   },
   {
    "duration": 241,
    "start_time": "2025-04-15T05:03:55.633Z"
   },
   {
    "duration": 183,
    "start_time": "2025-04-15T05:03:55.975Z"
   },
   {
    "duration": 4,
    "start_time": "2025-04-15T05:03:56.351Z"
   },
   {
    "duration": 3,
    "start_time": "2025-04-15T05:03:56.698Z"
   },
   {
    "duration": 75,
    "start_time": "2025-04-15T05:03:57.060Z"
   },
   {
    "duration": 245,
    "start_time": "2025-04-15T05:03:57.389Z"
   },
   {
    "duration": 5,
    "start_time": "2025-04-15T05:03:57.740Z"
   },
   {
    "duration": 2580,
    "start_time": "2025-04-15T05:03:58.329Z"
   },
   {
    "duration": 2310,
    "start_time": "2025-04-15T05:04:00.912Z"
   },
   {
    "duration": 9,
    "start_time": "2025-04-15T05:04:03.224Z"
   },
   {
    "duration": 77,
    "start_time": "2025-04-15T05:04:03.235Z"
   },
   {
    "duration": 3,
    "start_time": "2025-04-15T05:04:03.314Z"
   },
   {
    "duration": 140,
    "start_time": "2025-04-15T05:04:03.319Z"
   },
   {
    "duration": 169,
    "start_time": "2025-04-15T05:04:03.461Z"
   },
   {
    "duration": 1026,
    "start_time": "2025-04-15T05:04:03.632Z"
   },
   {
    "duration": 0,
    "start_time": "2025-04-15T05:04:04.660Z"
   },
   {
    "duration": 43,
    "start_time": "2025-04-15T05:08:06.208Z"
   },
   {
    "duration": 302,
    "start_time": "2025-04-15T05:10:28.698Z"
   },
   {
    "duration": 370,
    "start_time": "2025-04-15T05:11:32.227Z"
   },
   {
    "duration": 1155,
    "start_time": "2025-04-15T05:11:54.680Z"
   },
   {
    "duration": 49,
    "start_time": "2025-04-15T05:11:55.837Z"
   },
   {
    "duration": 8,
    "start_time": "2025-04-15T05:11:55.889Z"
   },
   {
    "duration": 241,
    "start_time": "2025-04-15T05:11:56.489Z"
   },
   {
    "duration": 184,
    "start_time": "2025-04-15T05:11:56.863Z"
   },
   {
    "duration": 4,
    "start_time": "2025-04-15T05:11:57.388Z"
   },
   {
    "duration": 3,
    "start_time": "2025-04-15T05:11:57.921Z"
   },
   {
    "duration": 74,
    "start_time": "2025-04-15T05:11:58.340Z"
   },
   {
    "duration": 264,
    "start_time": "2025-04-15T05:11:58.762Z"
   },
   {
    "duration": 6,
    "start_time": "2025-04-15T05:11:59.148Z"
   },
   {
    "duration": 2596,
    "start_time": "2025-04-15T05:11:59.754Z"
   },
   {
    "duration": 2312,
    "start_time": "2025-04-15T05:12:02.352Z"
   },
   {
    "duration": 10,
    "start_time": "2025-04-15T05:12:04.666Z"
   },
   {
    "duration": 75,
    "start_time": "2025-04-15T05:12:04.678Z"
   },
   {
    "duration": 2,
    "start_time": "2025-04-15T05:12:04.756Z"
   },
   {
    "duration": 137,
    "start_time": "2025-04-15T05:12:04.760Z"
   },
   {
    "duration": 169,
    "start_time": "2025-04-15T05:12:04.898Z"
   },
   {
    "duration": 1064,
    "start_time": "2025-04-15T05:12:07.637Z"
   },
   {
    "duration": 453,
    "start_time": "2025-04-15T05:13:34.019Z"
   },
   {
    "duration": 1172,
    "start_time": "2025-04-15T05:15:13.777Z"
   },
   {
    "duration": 47,
    "start_time": "2025-04-15T05:15:14.951Z"
   },
   {
    "duration": 20,
    "start_time": "2025-04-15T05:15:15.000Z"
   },
   {
    "duration": 247,
    "start_time": "2025-04-15T05:15:15.172Z"
   },
   {
    "duration": 189,
    "start_time": "2025-04-15T05:15:15.554Z"
   },
   {
    "duration": 4,
    "start_time": "2025-04-15T05:15:15.921Z"
   },
   {
    "duration": 3,
    "start_time": "2025-04-15T05:15:16.294Z"
   },
   {
    "duration": 79,
    "start_time": "2025-04-15T05:15:16.850Z"
   },
   {
    "duration": 255,
    "start_time": "2025-04-15T05:15:17.241Z"
   },
   {
    "duration": 5,
    "start_time": "2025-04-15T05:15:17.616Z"
   },
   {
    "duration": 2631,
    "start_time": "2025-04-15T05:15:18.193Z"
   },
   {
    "duration": 2515,
    "start_time": "2025-04-15T05:15:20.826Z"
   },
   {
    "duration": 10,
    "start_time": "2025-04-15T05:15:23.344Z"
   },
   {
    "duration": 95,
    "start_time": "2025-04-15T05:15:23.356Z"
   },
   {
    "duration": 4,
    "start_time": "2025-04-15T05:15:23.452Z"
   },
   {
    "duration": 143,
    "start_time": "2025-04-15T05:15:23.458Z"
   },
   {
    "duration": 176,
    "start_time": "2025-04-15T05:15:23.603Z"
   },
   {
    "duration": 34,
    "start_time": "2025-04-15T05:15:23.781Z"
   },
   {
    "duration": 47,
    "start_time": "2025-04-15T05:15:23.819Z"
   },
   {
    "duration": 356,
    "start_time": "2025-04-15T05:23:10.095Z"
   },
   {
    "duration": 7,
    "start_time": "2025-04-15T05:24:20.825Z"
   },
   {
    "duration": 1118,
    "start_time": "2025-04-15T05:27:21.884Z"
   },
   {
    "duration": 51,
    "start_time": "2025-04-15T05:27:23.828Z"
   },
   {
    "duration": 9,
    "start_time": "2025-04-15T05:27:24.034Z"
   },
   {
    "duration": 243,
    "start_time": "2025-04-15T05:27:24.932Z"
   },
   {
    "duration": 182,
    "start_time": "2025-04-15T05:27:25.566Z"
   },
   {
    "duration": 9,
    "start_time": "2025-04-15T05:27:25.972Z"
   },
   {
    "duration": 4,
    "start_time": "2025-04-15T05:27:26.358Z"
   },
   {
    "duration": 75,
    "start_time": "2025-04-15T05:27:26.745Z"
   },
   {
    "duration": 255,
    "start_time": "2025-04-15T05:27:27.126Z"
   },
   {
    "duration": 5,
    "start_time": "2025-04-15T05:27:27.711Z"
   },
   {
    "duration": 2560,
    "start_time": "2025-04-15T05:27:28.295Z"
   },
   {
    "duration": 2319,
    "start_time": "2025-04-15T05:27:30.857Z"
   },
   {
    "duration": 9,
    "start_time": "2025-04-15T05:27:33.178Z"
   },
   {
    "duration": 70,
    "start_time": "2025-04-15T05:27:33.189Z"
   },
   {
    "duration": 3,
    "start_time": "2025-04-15T05:27:33.261Z"
   },
   {
    "duration": 147,
    "start_time": "2025-04-15T05:27:33.266Z"
   },
   {
    "duration": 157,
    "start_time": "2025-04-15T05:27:33.415Z"
   },
   {
    "duration": 564,
    "start_time": "2025-04-15T05:27:33.574Z"
   },
   {
    "duration": 0,
    "start_time": "2025-04-15T05:27:34.140Z"
   },
   {
    "duration": 0,
    "start_time": "2025-04-15T05:27:34.142Z"
   },
   {
    "duration": 47,
    "start_time": "2025-04-15T05:28:56.613Z"
   },
   {
    "duration": 194,
    "start_time": "2025-04-15T05:32:27.013Z"
   },
   {
    "duration": 140,
    "start_time": "2025-04-15T05:33:10.101Z"
   },
   {
    "duration": 182,
    "start_time": "2025-04-15T05:35:00.163Z"
   },
   {
    "duration": 299,
    "start_time": "2025-04-15T05:35:10.202Z"
   },
   {
    "duration": 299,
    "start_time": "2025-04-15T05:35:34.184Z"
   },
   {
    "duration": 209,
    "start_time": "2025-04-15T05:35:48.112Z"
   },
   {
    "duration": 43,
    "start_time": "2025-04-15T05:36:12.580Z"
   },
   {
    "duration": 62,
    "start_time": "2025-04-15T05:39:44.096Z"
   },
   {
    "duration": 21,
    "start_time": "2025-04-15T05:41:40.022Z"
   },
   {
    "duration": 30,
    "start_time": "2025-04-15T06:08:54.580Z"
   },
   {
    "duration": 216,
    "start_time": "2025-04-15T06:09:20.372Z"
   },
   {
    "duration": 55,
    "start_time": "2025-04-15T06:10:32.494Z"
   },
   {
    "duration": 1132,
    "start_time": "2025-04-15T06:10:59.539Z"
   },
   {
    "duration": 49,
    "start_time": "2025-04-15T06:11:00.673Z"
   },
   {
    "duration": 8,
    "start_time": "2025-04-15T06:11:00.723Z"
   },
   {
    "duration": 231,
    "start_time": "2025-04-15T06:11:01.210Z"
   },
   {
    "duration": 184,
    "start_time": "2025-04-15T06:11:01.675Z"
   },
   {
    "duration": 5,
    "start_time": "2025-04-15T06:11:02.162Z"
   },
   {
    "duration": 4,
    "start_time": "2025-04-15T06:11:02.596Z"
   },
   {
    "duration": 74,
    "start_time": "2025-04-15T06:11:03.087Z"
   },
   {
    "duration": 248,
    "start_time": "2025-04-15T06:11:03.594Z"
   },
   {
    "duration": 5,
    "start_time": "2025-04-15T06:11:04.230Z"
   },
   {
    "duration": 2459,
    "start_time": "2025-04-15T06:11:05.780Z"
   },
   {
    "duration": 2309,
    "start_time": "2025-04-15T06:11:08.241Z"
   },
   {
    "duration": 10,
    "start_time": "2025-04-15T06:11:10.551Z"
   },
   {
    "duration": 79,
    "start_time": "2025-04-15T06:11:10.563Z"
   },
   {
    "duration": 3,
    "start_time": "2025-04-15T06:11:10.643Z"
   },
   {
    "duration": 142,
    "start_time": "2025-04-15T06:11:10.648Z"
   },
   {
    "duration": 161,
    "start_time": "2025-04-15T06:11:10.792Z"
   },
   {
    "duration": 319,
    "start_time": "2025-04-15T06:11:10.955Z"
   },
   {
    "duration": 606,
    "start_time": "2025-04-15T06:11:11.276Z"
   },
   {
    "duration": 45,
    "start_time": "2025-04-15T06:12:06.773Z"
   },
   {
    "duration": 29,
    "start_time": "2025-04-15T06:17:39.307Z"
   },
   {
    "duration": 1138,
    "start_time": "2025-04-15T06:24:21.048Z"
   },
   {
    "duration": 52,
    "start_time": "2025-04-15T06:24:22.188Z"
   },
   {
    "duration": 9,
    "start_time": "2025-04-15T06:24:22.242Z"
   },
   {
    "duration": 233,
    "start_time": "2025-04-15T06:24:22.427Z"
   },
   {
    "duration": 182,
    "start_time": "2025-04-15T06:24:22.777Z"
   },
   {
    "duration": 3,
    "start_time": "2025-04-15T06:24:23.208Z"
   },
   {
    "duration": 3,
    "start_time": "2025-04-15T06:24:23.608Z"
   },
   {
    "duration": 76,
    "start_time": "2025-04-15T06:24:24.008Z"
   },
   {
    "duration": 255,
    "start_time": "2025-04-15T06:24:24.863Z"
   },
   {
    "duration": 5,
    "start_time": "2025-04-15T06:24:25.349Z"
   },
   {
    "duration": 2555,
    "start_time": "2025-04-15T06:24:26.537Z"
   },
   {
    "duration": 2259,
    "start_time": "2025-04-15T06:24:29.094Z"
   },
   {
    "duration": 9,
    "start_time": "2025-04-15T06:24:31.355Z"
   },
   {
    "duration": 76,
    "start_time": "2025-04-15T06:24:31.367Z"
   },
   {
    "duration": 3,
    "start_time": "2025-04-15T06:24:31.445Z"
   },
   {
    "duration": 137,
    "start_time": "2025-04-15T06:24:31.450Z"
   },
   {
    "duration": 162,
    "start_time": "2025-04-15T06:24:31.588Z"
   },
   {
    "duration": 323,
    "start_time": "2025-04-15T06:24:31.751Z"
   },
   {
    "duration": 433,
    "start_time": "2025-04-15T06:24:32.076Z"
   },
   {
    "duration": 208,
    "start_time": "2025-04-15T06:24:43.105Z"
   },
   {
    "duration": 29,
    "start_time": "2025-04-15T06:32:01.646Z"
   },
   {
    "duration": 29,
    "start_time": "2025-04-15T06:32:44.213Z"
   },
   {
    "duration": 1115,
    "start_time": "2025-04-15T06:33:01.771Z"
   },
   {
    "duration": 50,
    "start_time": "2025-04-15T06:33:02.888Z"
   },
   {
    "duration": 8,
    "start_time": "2025-04-15T06:33:02.940Z"
   },
   {
    "duration": 236,
    "start_time": "2025-04-15T06:33:03.241Z"
   },
   {
    "duration": 180,
    "start_time": "2025-04-15T06:33:03.593Z"
   },
   {
    "duration": 4,
    "start_time": "2025-04-15T06:33:04.155Z"
   },
   {
    "duration": 3,
    "start_time": "2025-04-15T06:33:04.553Z"
   },
   {
    "duration": 75,
    "start_time": "2025-04-15T06:33:04.921Z"
   },
   {
    "duration": 247,
    "start_time": "2025-04-15T06:33:05.325Z"
   },
   {
    "duration": 4,
    "start_time": "2025-04-15T06:33:05.722Z"
   },
   {
    "duration": 2621,
    "start_time": "2025-04-15T06:33:06.331Z"
   },
   {
    "duration": 2244,
    "start_time": "2025-04-15T06:33:08.954Z"
   },
   {
    "duration": 14,
    "start_time": "2025-04-15T06:33:11.199Z"
   },
   {
    "duration": 61,
    "start_time": "2025-04-15T06:33:11.216Z"
   },
   {
    "duration": 3,
    "start_time": "2025-04-15T06:33:11.279Z"
   },
   {
    "duration": 151,
    "start_time": "2025-04-15T06:33:11.283Z"
   },
   {
    "duration": 167,
    "start_time": "2025-04-15T06:33:11.436Z"
   },
   {
    "duration": 317,
    "start_time": "2025-04-15T06:33:11.605Z"
   },
   {
    "duration": 437,
    "start_time": "2025-04-15T06:33:11.924Z"
   },
   {
    "duration": 209,
    "start_time": "2025-04-15T06:33:36.114Z"
   },
   {
    "duration": 18,
    "start_time": "2025-04-15T06:34:23.500Z"
   },
   {
    "duration": 29,
    "start_time": "2025-04-15T06:34:32.635Z"
   },
   {
    "duration": 52,
    "start_time": "2025-04-15T06:34:42.195Z"
   },
   {
    "duration": 56,
    "start_time": "2025-04-15T06:36:44.029Z"
   },
   {
    "duration": 52,
    "start_time": "2025-04-15T06:37:18.040Z"
   },
   {
    "duration": 51,
    "start_time": "2025-04-15T06:37:42.398Z"
   },
   {
    "duration": 218,
    "start_time": "2025-04-15T06:38:12.563Z"
   },
   {
    "duration": 1127,
    "start_time": "2025-04-15T06:38:32.792Z"
   },
   {
    "duration": 52,
    "start_time": "2025-04-15T06:38:33.921Z"
   },
   {
    "duration": 9,
    "start_time": "2025-04-15T06:38:34.127Z"
   },
   {
    "duration": 244,
    "start_time": "2025-04-15T06:38:34.879Z"
   },
   {
    "duration": 181,
    "start_time": "2025-04-15T06:38:35.233Z"
   },
   {
    "duration": 4,
    "start_time": "2025-04-15T06:38:35.606Z"
   },
   {
    "duration": 3,
    "start_time": "2025-04-15T06:38:35.953Z"
   },
   {
    "duration": 75,
    "start_time": "2025-04-15T06:38:36.303Z"
   },
   {
    "duration": 243,
    "start_time": "2025-04-15T06:38:36.632Z"
   },
   {
    "duration": 5,
    "start_time": "2025-04-15T06:38:36.999Z"
   },
   {
    "duration": 2524,
    "start_time": "2025-04-15T06:38:37.548Z"
   },
   {
    "duration": 2219,
    "start_time": "2025-04-15T06:38:40.074Z"
   },
   {
    "duration": 20,
    "start_time": "2025-04-15T06:38:42.295Z"
   },
   {
    "duration": 66,
    "start_time": "2025-04-15T06:38:42.317Z"
   },
   {
    "duration": 3,
    "start_time": "2025-04-15T06:38:42.384Z"
   },
   {
    "duration": 149,
    "start_time": "2025-04-15T06:38:42.389Z"
   },
   {
    "duration": 168,
    "start_time": "2025-04-15T06:38:42.539Z"
   },
   {
    "duration": 322,
    "start_time": "2025-04-15T06:38:42.708Z"
   },
   {
    "duration": 233,
    "start_time": "2025-04-15T06:38:43.032Z"
   },
   {
    "duration": 402,
    "start_time": "2025-04-15T06:38:59.301Z"
   },
   {
    "duration": 1145,
    "start_time": "2025-04-15T06:39:22.695Z"
   },
   {
    "duration": 48,
    "start_time": "2025-04-15T06:39:24.574Z"
   },
   {
    "duration": 8,
    "start_time": "2025-04-15T06:39:24.744Z"
   },
   {
    "duration": 240,
    "start_time": "2025-04-15T06:39:25.502Z"
   },
   {
    "duration": 185,
    "start_time": "2025-04-15T06:39:25.853Z"
   },
   {
    "duration": 9,
    "start_time": "2025-04-15T06:39:26.191Z"
   },
   {
    "duration": 3,
    "start_time": "2025-04-15T06:39:26.550Z"
   },
   {
    "duration": 75,
    "start_time": "2025-04-15T06:39:26.883Z"
   },
   {
    "duration": 251,
    "start_time": "2025-04-15T06:39:27.261Z"
   },
   {
    "duration": 5,
    "start_time": "2025-04-15T06:39:27.606Z"
   },
   {
    "duration": 2502,
    "start_time": "2025-04-15T06:39:28.186Z"
   },
   {
    "duration": 2333,
    "start_time": "2025-04-15T06:39:30.690Z"
   },
   {
    "duration": 10,
    "start_time": "2025-04-15T06:39:33.025Z"
   },
   {
    "duration": 79,
    "start_time": "2025-04-15T06:39:33.038Z"
   },
   {
    "duration": 3,
    "start_time": "2025-04-15T06:39:33.119Z"
   },
   {
    "duration": 138,
    "start_time": "2025-04-15T06:39:33.124Z"
   },
   {
    "duration": 158,
    "start_time": "2025-04-15T06:39:33.265Z"
   },
   {
    "duration": 320,
    "start_time": "2025-04-15T06:39:33.425Z"
   },
   {
    "duration": 30,
    "start_time": "2025-04-15T06:40:12.913Z"
   },
   {
    "duration": 1134,
    "start_time": "2025-04-15T06:41:04.424Z"
   },
   {
    "duration": 56,
    "start_time": "2025-04-15T06:41:05.560Z"
   },
   {
    "duration": 8,
    "start_time": "2025-04-15T06:41:05.679Z"
   },
   {
    "duration": 232,
    "start_time": "2025-04-15T06:41:06.487Z"
   },
   {
    "duration": 187,
    "start_time": "2025-04-15T06:41:06.898Z"
   },
   {
    "duration": 4,
    "start_time": "2025-04-15T06:41:07.293Z"
   },
   {
    "duration": 4,
    "start_time": "2025-04-15T06:41:07.686Z"
   },
   {
    "duration": 75,
    "start_time": "2025-04-15T06:41:08.103Z"
   },
   {
    "duration": 253,
    "start_time": "2025-04-15T06:41:08.494Z"
   },
   {
    "duration": 6,
    "start_time": "2025-04-15T06:41:08.924Z"
   },
   {
    "duration": 2565,
    "start_time": "2025-04-15T06:41:09.512Z"
   },
   {
    "duration": 2178,
    "start_time": "2025-04-15T06:41:12.080Z"
   },
   {
    "duration": 10,
    "start_time": "2025-04-15T06:41:14.260Z"
   },
   {
    "duration": 79,
    "start_time": "2025-04-15T06:41:14.272Z"
   },
   {
    "duration": 3,
    "start_time": "2025-04-15T06:41:14.352Z"
   },
   {
    "duration": 139,
    "start_time": "2025-04-15T06:41:14.357Z"
   },
   {
    "duration": 159,
    "start_time": "2025-04-15T06:41:14.498Z"
   },
   {
    "duration": 321,
    "start_time": "2025-04-15T06:41:14.658Z"
   },
   {
    "duration": 41,
    "start_time": "2025-04-15T06:41:14.981Z"
   },
   {
    "duration": 608,
    "start_time": "2025-04-15T06:41:59.448Z"
   },
   {
    "duration": 1124,
    "start_time": "2025-04-15T06:42:14.437Z"
   },
   {
    "duration": 52,
    "start_time": "2025-04-15T06:42:15.564Z"
   },
   {
    "duration": 8,
    "start_time": "2025-04-15T06:42:15.618Z"
   },
   {
    "duration": 232,
    "start_time": "2025-04-15T06:42:15.830Z"
   },
   {
    "duration": 183,
    "start_time": "2025-04-15T06:42:16.226Z"
   },
   {
    "duration": 4,
    "start_time": "2025-04-15T06:42:16.733Z"
   },
   {
    "duration": 4,
    "start_time": "2025-04-15T06:42:17.102Z"
   },
   {
    "duration": 73,
    "start_time": "2025-04-15T06:42:17.445Z"
   },
   {
    "duration": 247,
    "start_time": "2025-04-15T06:42:18.141Z"
   },
   {
    "duration": 6,
    "start_time": "2025-04-15T06:42:19.048Z"
   },
   {
    "duration": 2594,
    "start_time": "2025-04-15T06:42:19.838Z"
   },
   {
    "duration": 2332,
    "start_time": "2025-04-15T06:42:22.434Z"
   },
   {
    "duration": 10,
    "start_time": "2025-04-15T06:42:24.768Z"
   },
   {
    "duration": 73,
    "start_time": "2025-04-15T06:42:24.781Z"
   },
   {
    "duration": 3,
    "start_time": "2025-04-15T06:42:24.856Z"
   },
   {
    "duration": 136,
    "start_time": "2025-04-15T06:42:24.861Z"
   },
   {
    "duration": 170,
    "start_time": "2025-04-15T06:42:24.999Z"
   },
   {
    "duration": 317,
    "start_time": "2025-04-15T06:42:25.171Z"
   },
   {
    "duration": 31,
    "start_time": "2025-04-15T06:42:42.601Z"
   },
   {
    "duration": 136,
    "start_time": "2025-04-15T06:46:34.375Z"
   },
   {
    "duration": 23,
    "start_time": "2025-04-15T06:47:20.036Z"
   },
   {
    "duration": 1117,
    "start_time": "2025-04-15T06:47:34.659Z"
   },
   {
    "duration": 52,
    "start_time": "2025-04-15T06:47:35.778Z"
   },
   {
    "duration": 8,
    "start_time": "2025-04-15T06:47:35.831Z"
   },
   {
    "duration": 232,
    "start_time": "2025-04-15T06:47:36.019Z"
   },
   {
    "duration": 181,
    "start_time": "2025-04-15T06:47:36.378Z"
   },
   {
    "duration": 4,
    "start_time": "2025-04-15T06:47:36.756Z"
   },
   {
    "duration": 3,
    "start_time": "2025-04-15T06:47:37.123Z"
   },
   {
    "duration": 74,
    "start_time": "2025-04-15T06:47:37.492Z"
   },
   {
    "duration": 257,
    "start_time": "2025-04-15T06:47:37.860Z"
   },
   {
    "duration": 5,
    "start_time": "2025-04-15T06:47:38.192Z"
   },
   {
    "duration": 2444,
    "start_time": "2025-04-15T06:47:38.733Z"
   },
   {
    "duration": 2246,
    "start_time": "2025-04-15T06:47:41.179Z"
   },
   {
    "duration": 10,
    "start_time": "2025-04-15T06:47:43.426Z"
   },
   {
    "duration": 78,
    "start_time": "2025-04-15T06:47:43.438Z"
   },
   {
    "duration": 3,
    "start_time": "2025-04-15T06:47:43.518Z"
   },
   {
    "duration": 138,
    "start_time": "2025-04-15T06:47:43.523Z"
   },
   {
    "duration": 161,
    "start_time": "2025-04-15T06:47:43.662Z"
   },
   {
    "duration": 323,
    "start_time": "2025-04-15T06:47:43.824Z"
   },
   {
    "duration": 154,
    "start_time": "2025-04-15T06:47:44.149Z"
   },
   {
    "duration": 25,
    "start_time": "2025-04-15T06:48:40.165Z"
   },
   {
    "duration": 26,
    "start_time": "2025-04-15T06:49:07.120Z"
   },
   {
    "duration": 444,
    "start_time": "2025-04-15T06:49:54.715Z"
   },
   {
    "duration": 1129,
    "start_time": "2025-04-15T06:50:09.357Z"
   },
   {
    "duration": 49,
    "start_time": "2025-04-15T06:50:10.488Z"
   },
   {
    "duration": 8,
    "start_time": "2025-04-15T06:50:10.539Z"
   },
   {
    "duration": 233,
    "start_time": "2025-04-15T06:50:10.723Z"
   },
   {
    "duration": 183,
    "start_time": "2025-04-15T06:50:11.135Z"
   },
   {
    "duration": 4,
    "start_time": "2025-04-15T06:50:11.523Z"
   },
   {
    "duration": 3,
    "start_time": "2025-04-15T06:50:11.939Z"
   },
   {
    "duration": 74,
    "start_time": "2025-04-15T06:50:12.354Z"
   },
   {
    "duration": 255,
    "start_time": "2025-04-15T06:50:12.812Z"
   },
   {
    "duration": 5,
    "start_time": "2025-04-15T06:50:13.242Z"
   },
   {
    "duration": 2532,
    "start_time": "2025-04-15T06:50:13.898Z"
   },
   {
    "duration": 2343,
    "start_time": "2025-04-15T06:50:16.432Z"
   },
   {
    "duration": 10,
    "start_time": "2025-04-15T06:50:18.777Z"
   },
   {
    "duration": 80,
    "start_time": "2025-04-15T06:50:18.790Z"
   },
   {
    "duration": 3,
    "start_time": "2025-04-15T06:50:18.871Z"
   },
   {
    "duration": 146,
    "start_time": "2025-04-15T06:50:18.877Z"
   },
   {
    "duration": 168,
    "start_time": "2025-04-15T06:50:19.025Z"
   },
   {
    "duration": 311,
    "start_time": "2025-04-15T06:50:20.079Z"
   },
   {
    "duration": 139,
    "start_time": "2025-04-15T06:50:25.464Z"
   },
   {
    "duration": 26,
    "start_time": "2025-04-15T06:51:04.955Z"
   },
   {
    "duration": 25,
    "start_time": "2025-04-15T06:51:25.899Z"
   },
   {
    "duration": 1122,
    "start_time": "2025-04-15T06:53:35.952Z"
   },
   {
    "duration": 53,
    "start_time": "2025-04-15T06:53:37.076Z"
   },
   {
    "duration": 8,
    "start_time": "2025-04-15T06:53:37.131Z"
   },
   {
    "duration": 233,
    "start_time": "2025-04-15T06:53:37.337Z"
   },
   {
    "duration": 182,
    "start_time": "2025-04-15T06:53:37.744Z"
   },
   {
    "duration": 4,
    "start_time": "2025-04-15T06:53:38.145Z"
   },
   {
    "duration": 3,
    "start_time": "2025-04-15T06:53:38.528Z"
   },
   {
    "duration": 76,
    "start_time": "2025-04-15T06:53:39.273Z"
   },
   {
    "duration": 245,
    "start_time": "2025-04-15T06:53:40.595Z"
   },
   {
    "duration": 6,
    "start_time": "2025-04-15T06:53:41.746Z"
   },
   {
    "duration": 2608,
    "start_time": "2025-04-15T06:53:42.329Z"
   },
   {
    "duration": 2297,
    "start_time": "2025-04-15T06:53:44.939Z"
   },
   {
    "duration": 9,
    "start_time": "2025-04-15T06:53:47.238Z"
   },
   {
    "duration": 74,
    "start_time": "2025-04-15T06:53:47.250Z"
   },
   {
    "duration": 3,
    "start_time": "2025-04-15T06:53:47.326Z"
   },
   {
    "duration": 143,
    "start_time": "2025-04-15T06:53:47.331Z"
   },
   {
    "duration": 163,
    "start_time": "2025-04-15T06:53:47.476Z"
   },
   {
    "duration": 319,
    "start_time": "2025-04-15T06:53:47.640Z"
   },
   {
    "duration": 154,
    "start_time": "2025-04-15T06:53:47.961Z"
   },
   {
    "duration": 25,
    "start_time": "2025-04-15T06:58:36.135Z"
   },
   {
    "duration": 25,
    "start_time": "2025-04-15T07:05:32.745Z"
   },
   {
    "duration": 1101,
    "start_time": "2025-04-15T07:06:20.185Z"
   },
   {
    "duration": 48,
    "start_time": "2025-04-15T07:06:21.289Z"
   },
   {
    "duration": 9,
    "start_time": "2025-04-15T07:06:21.338Z"
   },
   {
    "duration": 234,
    "start_time": "2025-04-15T07:06:22.038Z"
   },
   {
    "duration": 181,
    "start_time": "2025-04-15T07:06:22.447Z"
   },
   {
    "duration": 4,
    "start_time": "2025-04-15T07:06:22.895Z"
   },
   {
    "duration": 4,
    "start_time": "2025-04-15T07:06:23.336Z"
   },
   {
    "duration": 74,
    "start_time": "2025-04-15T07:06:23.762Z"
   },
   {
    "duration": 250,
    "start_time": "2025-04-15T07:06:24.263Z"
   },
   {
    "duration": 5,
    "start_time": "2025-04-15T07:06:24.677Z"
   },
   {
    "duration": 2466,
    "start_time": "2025-04-15T07:06:25.366Z"
   },
   {
    "duration": 2255,
    "start_time": "2025-04-15T07:06:27.834Z"
   },
   {
    "duration": 22,
    "start_time": "2025-04-15T07:06:30.090Z"
   },
   {
    "duration": 62,
    "start_time": "2025-04-15T07:06:30.114Z"
   },
   {
    "duration": 4,
    "start_time": "2025-04-15T07:06:30.178Z"
   },
   {
    "duration": 141,
    "start_time": "2025-04-15T07:06:30.184Z"
   },
   {
    "duration": 156,
    "start_time": "2025-04-15T07:06:30.327Z"
   },
   {
    "duration": 322,
    "start_time": "2025-04-15T07:06:30.484Z"
   },
   {
    "duration": 145,
    "start_time": "2025-04-15T07:06:30.808Z"
   },
   {
    "duration": 3,
    "start_time": "2025-04-15T07:07:27.183Z"
   },
   {
    "duration": 30,
    "start_time": "2025-04-15T07:11:44.155Z"
   },
   {
    "duration": 486,
    "start_time": "2025-04-15T07:11:56.350Z"
   },
   {
    "duration": 0,
    "start_time": "2025-04-15T07:11:56.838Z"
   },
   {
    "duration": 3,
    "start_time": "2025-04-15T07:12:03.507Z"
   },
   {
    "duration": 1147,
    "start_time": "2025-04-15T07:12:28.102Z"
   },
   {
    "duration": 52,
    "start_time": "2025-04-15T07:12:29.251Z"
   },
   {
    "duration": 8,
    "start_time": "2025-04-15T07:12:29.311Z"
   },
   {
    "duration": 238,
    "start_time": "2025-04-15T07:12:29.486Z"
   },
   {
    "duration": 190,
    "start_time": "2025-04-15T07:12:29.862Z"
   },
   {
    "duration": 4,
    "start_time": "2025-04-15T07:12:30.261Z"
   },
   {
    "duration": 3,
    "start_time": "2025-04-15T07:12:30.624Z"
   },
   {
    "duration": 74,
    "start_time": "2025-04-15T07:12:31.139Z"
   },
   {
    "duration": 249,
    "start_time": "2025-04-15T07:12:31.677Z"
   },
   {
    "duration": 6,
    "start_time": "2025-04-15T07:12:32.060Z"
   },
   {
    "duration": 2509,
    "start_time": "2025-04-15T07:12:32.796Z"
   },
   {
    "duration": 2282,
    "start_time": "2025-04-15T07:12:35.307Z"
   },
   {
    "duration": 9,
    "start_time": "2025-04-15T07:12:37.591Z"
   },
   {
    "duration": 76,
    "start_time": "2025-04-15T07:12:37.602Z"
   },
   {
    "duration": 4,
    "start_time": "2025-04-15T07:12:37.679Z"
   },
   {
    "duration": 146,
    "start_time": "2025-04-15T07:12:37.684Z"
   },
   {
    "duration": 161,
    "start_time": "2025-04-15T07:12:37.831Z"
   },
   {
    "duration": 320,
    "start_time": "2025-04-15T07:12:37.994Z"
   },
   {
    "duration": 28,
    "start_time": "2025-04-15T07:12:38.316Z"
   },
   {
    "duration": 3,
    "start_time": "2025-04-15T07:12:38.346Z"
   },
   {
    "duration": 6,
    "start_time": "2025-04-15T07:14:29.972Z"
   },
   {
    "duration": 5,
    "start_time": "2025-04-15T07:17:41.252Z"
   },
   {
    "duration": 1145,
    "start_time": "2025-04-15T07:18:29.833Z"
   },
   {
    "duration": 49,
    "start_time": "2025-04-15T07:18:30.980Z"
   },
   {
    "duration": 8,
    "start_time": "2025-04-15T07:18:31.031Z"
   },
   {
    "duration": 241,
    "start_time": "2025-04-15T07:18:31.993Z"
   },
   {
    "duration": 184,
    "start_time": "2025-04-15T07:18:32.418Z"
   },
   {
    "duration": 4,
    "start_time": "2025-04-15T07:18:32.858Z"
   },
   {
    "duration": 3,
    "start_time": "2025-04-15T07:18:33.434Z"
   },
   {
    "duration": 74,
    "start_time": "2025-04-15T07:18:33.877Z"
   },
   {
    "duration": 256,
    "start_time": "2025-04-15T07:18:34.297Z"
   },
   {
    "duration": 5,
    "start_time": "2025-04-15T07:18:34.723Z"
   },
   {
    "duration": 2709,
    "start_time": "2025-04-15T07:18:35.609Z"
   },
   {
    "duration": 2319,
    "start_time": "2025-04-15T07:18:38.320Z"
   },
   {
    "duration": 9,
    "start_time": "2025-04-15T07:18:40.641Z"
   },
   {
    "duration": 73,
    "start_time": "2025-04-15T07:18:40.652Z"
   },
   {
    "duration": 4,
    "start_time": "2025-04-15T07:18:40.726Z"
   },
   {
    "duration": 142,
    "start_time": "2025-04-15T07:18:40.731Z"
   },
   {
    "duration": 155,
    "start_time": "2025-04-15T07:18:40.874Z"
   },
   {
    "duration": 318,
    "start_time": "2025-04-15T07:18:41.030Z"
   },
   {
    "duration": 27,
    "start_time": "2025-04-15T07:18:41.350Z"
   },
   {
    "duration": 5,
    "start_time": "2025-04-15T07:18:43.377Z"
   },
   {
    "duration": 8,
    "start_time": "2025-04-15T07:19:48.584Z"
   },
   {
    "duration": 7,
    "start_time": "2025-04-15T07:19:59.032Z"
   },
   {
    "duration": 138,
    "start_time": "2025-04-15T07:41:39.131Z"
   },
   {
    "duration": 3,
    "start_time": "2025-04-15T07:41:54.073Z"
   },
   {
    "duration": 24,
    "start_time": "2025-04-15T07:43:00.969Z"
   },
   {
    "duration": 3,
    "start_time": "2025-04-15T07:43:01.014Z"
   },
   {
    "duration": 354,
    "start_time": "2025-04-15T07:43:08.456Z"
   },
   {
    "duration": 51,
    "start_time": "2025-04-15T07:43:08.841Z"
   },
   {
    "duration": 7,
    "start_time": "2025-04-15T07:43:09.048Z"
   },
   {
    "duration": 229,
    "start_time": "2025-04-15T07:43:09.815Z"
   },
   {
    "duration": 158,
    "start_time": "2025-04-15T07:43:10.246Z"
   },
   {
    "duration": 3,
    "start_time": "2025-04-15T07:43:10.657Z"
   },
   {
    "duration": 3,
    "start_time": "2025-04-15T07:43:11.037Z"
   },
   {
    "duration": 67,
    "start_time": "2025-04-15T07:43:11.435Z"
   },
   {
    "duration": 237,
    "start_time": "2025-04-15T07:43:11.886Z"
   },
   {
    "duration": 6,
    "start_time": "2025-04-15T07:43:12.277Z"
   },
   {
    "duration": 2441,
    "start_time": "2025-04-15T07:43:12.939Z"
   },
   {
    "duration": 2346,
    "start_time": "2025-04-15T07:43:15.383Z"
   },
   {
    "duration": 10,
    "start_time": "2025-04-15T07:43:17.731Z"
   },
   {
    "duration": 73,
    "start_time": "2025-04-15T07:43:17.743Z"
   },
   {
    "duration": 3,
    "start_time": "2025-04-15T07:43:17.818Z"
   },
   {
    "duration": 138,
    "start_time": "2025-04-15T07:43:17.823Z"
   },
   {
    "duration": 160,
    "start_time": "2025-04-15T07:43:17.964Z"
   },
   {
    "duration": 316,
    "start_time": "2025-04-15T07:43:18.125Z"
   },
   {
    "duration": 23,
    "start_time": "2025-04-15T07:43:18.442Z"
   },
   {
    "duration": 0,
    "start_time": "2025-04-15T07:43:18.467Z"
   },
   {
    "duration": 3,
    "start_time": "2025-04-15T07:43:23.742Z"
   },
   {
    "duration": 25,
    "start_time": "2025-04-15T07:45:29.678Z"
   },
   {
    "duration": 3,
    "start_time": "2025-04-15T07:45:35.988Z"
   },
   {
    "duration": 82,
    "start_time": "2025-04-15T07:48:01.119Z"
   },
   {
    "duration": 3,
    "start_time": "2025-04-15T07:48:05.854Z"
   },
   {
    "duration": 3,
    "start_time": "2025-04-15T07:48:48.860Z"
   },
   {
    "duration": 1146,
    "start_time": "2025-04-15T07:49:17.332Z"
   },
   {
    "duration": 53,
    "start_time": "2025-04-15T07:49:19.251Z"
   },
   {
    "duration": 8,
    "start_time": "2025-04-15T07:49:19.469Z"
   },
   {
    "duration": 231,
    "start_time": "2025-04-15T07:49:20.343Z"
   },
   {
    "duration": 183,
    "start_time": "2025-04-15T07:49:20.789Z"
   },
   {
    "duration": 4,
    "start_time": "2025-04-15T07:49:21.202Z"
   },
   {
    "duration": 3,
    "start_time": "2025-04-15T07:49:21.608Z"
   },
   {
    "duration": 74,
    "start_time": "2025-04-15T07:49:21.977Z"
   },
   {
    "duration": 249,
    "start_time": "2025-04-15T07:49:22.390Z"
   },
   {
    "duration": 5,
    "start_time": "2025-04-15T07:49:22.771Z"
   },
   {
    "duration": 2558,
    "start_time": "2025-04-15T07:49:23.348Z"
   },
   {
    "duration": 2351,
    "start_time": "2025-04-15T07:49:25.908Z"
   },
   {
    "duration": 9,
    "start_time": "2025-04-15T07:49:28.261Z"
   },
   {
    "duration": 75,
    "start_time": "2025-04-15T07:49:28.273Z"
   },
   {
    "duration": 3,
    "start_time": "2025-04-15T07:49:28.350Z"
   },
   {
    "duration": 148,
    "start_time": "2025-04-15T07:49:28.355Z"
   },
   {
    "duration": 166,
    "start_time": "2025-04-15T07:49:28.505Z"
   },
   {
    "duration": 325,
    "start_time": "2025-04-15T07:49:28.673Z"
   },
   {
    "duration": 155,
    "start_time": "2025-04-15T07:49:29.000Z"
   },
   {
    "duration": 0,
    "start_time": "2025-04-15T07:49:29.157Z"
   },
   {
    "duration": 0,
    "start_time": "2025-04-15T07:49:29.158Z"
   },
   {
    "duration": 4,
    "start_time": "2025-04-15T07:49:34.205Z"
   },
   {
    "duration": 4,
    "start_time": "2025-04-15T07:50:16.276Z"
   },
   {
    "duration": 24,
    "start_time": "2025-04-15T07:50:39.177Z"
   },
   {
    "duration": 3,
    "start_time": "2025-04-15T07:50:41.982Z"
   },
   {
    "duration": 26,
    "start_time": "2025-04-15T07:51:30.128Z"
   },
   {
    "duration": 4,
    "start_time": "2025-04-15T07:51:35.679Z"
   },
   {
    "duration": 426,
    "start_time": "2025-04-15T07:52:52.027Z"
   },
   {
    "duration": 3,
    "start_time": "2025-04-15T07:52:55.996Z"
   },
   {
    "duration": 1191,
    "start_time": "2025-04-15T07:54:38.226Z"
   },
   {
    "duration": 48,
    "start_time": "2025-04-15T07:54:40.099Z"
   },
   {
    "duration": 7,
    "start_time": "2025-04-15T07:54:40.273Z"
   },
   {
    "duration": 237,
    "start_time": "2025-04-15T07:54:41.018Z"
   },
   {
    "duration": 181,
    "start_time": "2025-04-15T07:54:41.427Z"
   },
   {
    "duration": 4,
    "start_time": "2025-04-15T07:54:41.866Z"
   },
   {
    "duration": 3,
    "start_time": "2025-04-15T07:54:42.244Z"
   },
   {
    "duration": 74,
    "start_time": "2025-04-15T07:54:42.645Z"
   },
   {
    "duration": 251,
    "start_time": "2025-04-15T07:54:43.074Z"
   },
   {
    "duration": 5,
    "start_time": "2025-04-15T07:54:43.514Z"
   },
   {
    "duration": 2392,
    "start_time": "2025-04-15T07:54:44.145Z"
   },
   {
    "duration": 2217,
    "start_time": "2025-04-15T07:54:46.540Z"
   },
   {
    "duration": 10,
    "start_time": "2025-04-15T07:54:48.759Z"
   },
   {
    "duration": 79,
    "start_time": "2025-04-15T07:54:48.771Z"
   },
   {
    "duration": 3,
    "start_time": "2025-04-15T07:54:48.852Z"
   },
   {
    "duration": 139,
    "start_time": "2025-04-15T07:54:48.856Z"
   },
   {
    "duration": 170,
    "start_time": "2025-04-15T07:54:48.997Z"
   },
   {
    "duration": 311,
    "start_time": "2025-04-15T07:54:49.492Z"
   },
   {
    "duration": 141,
    "start_time": "2025-04-15T07:54:58.013Z"
   },
   {
    "duration": 4,
    "start_time": "2025-04-15T07:55:03.825Z"
   },
   {
    "duration": 3,
    "start_time": "2025-04-15T07:55:49.932Z"
   },
   {
    "duration": 24,
    "start_time": "2025-04-15T07:56:09.588Z"
   },
   {
    "duration": 3,
    "start_time": "2025-04-15T07:56:12.755Z"
   },
   {
    "duration": 3,
    "start_time": "2025-04-15T07:56:58.794Z"
   },
   {
    "duration": 8,
    "start_time": "2025-04-15T07:59:59.835Z"
   },
   {
    "duration": 25,
    "start_time": "2025-04-15T08:00:42.993Z"
   },
   {
    "duration": 1122,
    "start_time": "2025-04-15T08:01:10.618Z"
   },
   {
    "duration": 53,
    "start_time": "2025-04-15T08:01:13.001Z"
   },
   {
    "duration": 8,
    "start_time": "2025-04-15T08:01:13.224Z"
   },
   {
    "duration": 235,
    "start_time": "2025-04-15T08:01:14.096Z"
   },
   {
    "duration": 186,
    "start_time": "2025-04-15T08:01:14.711Z"
   },
   {
    "duration": 4,
    "start_time": "2025-04-15T08:01:15.159Z"
   },
   {
    "duration": 4,
    "start_time": "2025-04-15T08:01:15.585Z"
   },
   {
    "duration": 75,
    "start_time": "2025-04-15T08:01:15.990Z"
   },
   {
    "duration": 243,
    "start_time": "2025-04-15T08:01:16.407Z"
   },
   {
    "duration": 5,
    "start_time": "2025-04-15T08:01:16.799Z"
   },
   {
    "duration": 2525,
    "start_time": "2025-04-15T08:01:17.503Z"
   },
   {
    "duration": 2290,
    "start_time": "2025-04-15T08:01:20.031Z"
   },
   {
    "duration": 9,
    "start_time": "2025-04-15T08:01:22.323Z"
   },
   {
    "duration": 79,
    "start_time": "2025-04-15T08:01:22.335Z"
   },
   {
    "duration": 3,
    "start_time": "2025-04-15T08:01:22.415Z"
   },
   {
    "duration": 137,
    "start_time": "2025-04-15T08:01:22.420Z"
   },
   {
    "duration": 160,
    "start_time": "2025-04-15T08:01:22.558Z"
   },
   {
    "duration": 320,
    "start_time": "2025-04-15T08:01:22.719Z"
   },
   {
    "duration": 139,
    "start_time": "2025-04-15T08:01:26.157Z"
   },
   {
    "duration": 4,
    "start_time": "2025-04-15T08:01:28.335Z"
   },
   {
    "duration": 113,
    "start_time": "2025-04-15T08:02:45.911Z"
   },
   {
    "duration": 14,
    "start_time": "2025-04-15T08:03:10.830Z"
   },
   {
    "duration": 15,
    "start_time": "2025-04-15T08:03:22.154Z"
   },
   {
    "duration": 21,
    "start_time": "2025-04-15T08:03:33.511Z"
   },
   {
    "duration": 21,
    "start_time": "2025-04-15T08:04:24.505Z"
   },
   {
    "duration": 14,
    "start_time": "2025-04-15T08:04:32.838Z"
   },
   {
    "duration": 3105,
    "start_time": "2025-04-15T19:05:00.085Z"
   },
   {
    "duration": 77,
    "start_time": "2025-04-15T19:05:04.180Z"
   },
   {
    "duration": 11,
    "start_time": "2025-04-15T19:05:04.465Z"
   },
   {
    "duration": 335,
    "start_time": "2025-04-15T19:05:05.179Z"
   },
   {
    "duration": 236,
    "start_time": "2025-04-15T19:05:05.540Z"
   },
   {
    "duration": 5,
    "start_time": "2025-04-15T19:05:05.898Z"
   },
   {
    "duration": 4,
    "start_time": "2025-04-15T19:05:06.260Z"
   },
   {
    "duration": 74,
    "start_time": "2025-04-15T19:05:06.640Z"
   },
   {
    "duration": 293,
    "start_time": "2025-04-15T19:05:07.045Z"
   },
   {
    "duration": 7,
    "start_time": "2025-04-15T19:05:07.429Z"
   },
   {
    "duration": 2635,
    "start_time": "2025-04-15T19:05:08.282Z"
   },
   {
    "duration": 3187,
    "start_time": "2025-04-15T19:05:10.921Z"
   },
   {
    "duration": 11,
    "start_time": "2025-04-15T19:05:14.121Z"
   },
   {
    "duration": 113,
    "start_time": "2025-04-15T19:05:14.135Z"
   },
   {
    "duration": 3,
    "start_time": "2025-04-15T19:05:14.250Z"
   },
   {
    "duration": 162,
    "start_time": "2025-04-15T19:05:14.255Z"
   },
   {
    "duration": 234,
    "start_time": "2025-04-15T19:05:14.460Z"
   },
   {
    "duration": 351,
    "start_time": "2025-04-15T19:05:15.480Z"
   },
   {
    "duration": 644,
    "start_time": "2025-04-15T19:05:17.506Z"
   },
   {
    "duration": 59,
    "start_time": "2025-04-15T19:05:40.797Z"
   },
   {
    "duration": 198,
    "start_time": "2025-04-15T19:16:31.104Z"
   },
   {
    "duration": 1292,
    "start_time": "2025-04-15T19:16:59.088Z"
   },
   {
    "duration": 60,
    "start_time": "2025-04-15T19:17:00.382Z"
   },
   {
    "duration": 8,
    "start_time": "2025-04-15T19:17:00.444Z"
   },
   {
    "duration": 296,
    "start_time": "2025-04-15T19:17:00.484Z"
   },
   {
    "duration": 191,
    "start_time": "2025-04-15T19:17:00.876Z"
   },
   {
    "duration": 4,
    "start_time": "2025-04-15T19:17:01.276Z"
   },
   {
    "duration": 3,
    "start_time": "2025-04-15T19:17:01.898Z"
   },
   {
    "duration": 87,
    "start_time": "2025-04-15T19:17:02.354Z"
   },
   {
    "duration": 288,
    "start_time": "2025-04-15T19:17:02.998Z"
   },
   {
    "duration": 7,
    "start_time": "2025-04-15T19:17:03.855Z"
   },
   {
    "duration": 2650,
    "start_time": "2025-04-15T19:17:05.609Z"
   },
   {
    "duration": 2457,
    "start_time": "2025-04-15T19:17:08.262Z"
   },
   {
    "duration": 19,
    "start_time": "2025-04-15T19:17:10.720Z"
   },
   {
    "duration": 63,
    "start_time": "2025-04-15T19:17:10.742Z"
   },
   {
    "duration": 7,
    "start_time": "2025-04-15T19:17:10.812Z"
   },
   {
    "duration": 140,
    "start_time": "2025-04-15T19:17:10.820Z"
   },
   {
    "duration": 161,
    "start_time": "2025-04-15T19:17:12.128Z"
   },
   {
    "duration": 329,
    "start_time": "2025-04-15T19:17:13.328Z"
   },
   {
    "duration": 1217,
    "start_time": "2025-04-15T19:18:31.572Z"
   },
   {
    "duration": 53,
    "start_time": "2025-04-15T19:18:33.930Z"
   },
   {
    "duration": 8,
    "start_time": "2025-04-15T19:18:34.106Z"
   },
   {
    "duration": 250,
    "start_time": "2025-04-15T19:18:34.947Z"
   },
   {
    "duration": 180,
    "start_time": "2025-04-15T19:18:35.332Z"
   },
   {
    "duration": 4,
    "start_time": "2025-04-15T19:18:35.762Z"
   },
   {
    "duration": 3,
    "start_time": "2025-04-15T19:18:36.161Z"
   },
   {
    "duration": 75,
    "start_time": "2025-04-15T19:18:36.548Z"
   },
   {
    "duration": 248,
    "start_time": "2025-04-15T19:18:36.949Z"
   },
   {
    "duration": 5,
    "start_time": "2025-04-15T19:18:37.365Z"
   },
   {
    "duration": 2508,
    "start_time": "2025-04-15T19:18:38.253Z"
   },
   {
    "duration": 2159,
    "start_time": "2025-04-15T19:18:40.763Z"
   },
   {
    "duration": 9,
    "start_time": "2025-04-15T19:18:42.924Z"
   },
   {
    "duration": 79,
    "start_time": "2025-04-15T19:18:42.935Z"
   },
   {
    "duration": 3,
    "start_time": "2025-04-15T19:18:43.015Z"
   },
   {
    "duration": 140,
    "start_time": "2025-04-15T19:18:43.020Z"
   },
   {
    "duration": 160,
    "start_time": "2025-04-15T19:18:43.162Z"
   },
   {
    "duration": 322,
    "start_time": "2025-04-15T19:18:43.324Z"
   },
   {
    "duration": 2,
    "start_time": "2025-04-15T19:18:43.649Z"
   },
   {
    "duration": 626,
    "start_time": "2025-04-15T19:18:43.653Z"
   },
   {
    "duration": 1266,
    "start_time": "2025-04-15T19:21:33.526Z"
   },
   {
    "duration": 68,
    "start_time": "2025-04-15T19:21:35.412Z"
   },
   {
    "duration": 7,
    "start_time": "2025-04-15T19:21:35.653Z"
   },
   {
    "duration": 261,
    "start_time": "2025-04-15T19:21:36.581Z"
   },
   {
    "duration": 194,
    "start_time": "2025-04-15T19:21:37.152Z"
   },
   {
    "duration": 5,
    "start_time": "2025-04-15T19:21:37.596Z"
   },
   {
    "duration": 4,
    "start_time": "2025-04-15T19:21:38.100Z"
   },
   {
    "duration": 86,
    "start_time": "2025-04-15T19:21:38.765Z"
   },
   {
    "duration": 264,
    "start_time": "2025-04-15T19:21:39.244Z"
   },
   {
    "duration": 6,
    "start_time": "2025-04-15T19:21:39.833Z"
   },
   {
    "duration": 2651,
    "start_time": "2025-04-15T19:21:40.528Z"
   },
   {
    "duration": 2408,
    "start_time": "2025-04-15T19:21:43.181Z"
   },
   {
    "duration": 40,
    "start_time": "2025-04-15T19:21:45.591Z"
   },
   {
    "duration": 61,
    "start_time": "2025-04-15T19:21:45.641Z"
   },
   {
    "duration": 3,
    "start_time": "2025-04-15T19:21:45.704Z"
   },
   {
    "duration": 149,
    "start_time": "2025-04-15T19:21:45.708Z"
   },
   {
    "duration": 174,
    "start_time": "2025-04-15T19:21:45.859Z"
   },
   {
    "duration": 325,
    "start_time": "2025-04-15T19:21:46.035Z"
   },
   {
    "duration": 3,
    "start_time": "2025-04-15T19:21:46.362Z"
   }
  ],
  "kernelspec": {
   "display_name": "Python 3 (ipykernel)",
   "language": "python",
   "name": "python3"
  },
  "language_info": {
   "codemirror_mode": {
    "name": "ipython",
    "version": 3
   },
   "file_extension": ".py",
   "mimetype": "text/x-python",
   "name": "python",
   "nbconvert_exporter": "python",
   "pygments_lexer": "ipython3",
   "version": "3.12.7"
  },
  "toc": {
   "base_numbering": 1,
   "nav_menu": {},
   "number_sections": true,
   "sideBar": true,
   "skip_h1_title": true,
   "title_cell": "Table of Contents",
   "title_sidebar": "Contents",
   "toc_cell": false,
   "toc_position": {},
   "toc_section_display": true,
   "toc_window_display": false
  }
 },
 "nbformat": 4,
 "nbformat_minor": 4
}
